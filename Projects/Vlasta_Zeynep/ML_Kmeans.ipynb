{
 "cells": [
  {
   "cell_type": "code",
   "execution_count": 1,
   "metadata": {
    "collapsed": false
   },
   "outputs": [
    {
     "name": "stdout",
     "output_type": "stream",
     "text": [
      "Populating the interactive namespace from numpy and matplotlib\n"
     ]
    }
   ],
   "source": [
    "%pylab inline\n",
    "\n",
    "import numpy as np\n",
    "from astropy.table import Table\n",
    "from astropy.io import ascii\n",
    "from matplotlib import pyplot as plt\n",
    "from matplotlib.patches import Ellipse\n",
    "from scipy.stats import norm\n",
    "from sklearn.cluster import MeanShift, estimate_bandwidth\n",
    "from sklearn import preprocessing\n",
    "from sklearn.neighbors import KNeighborsClassifier\n",
    "from sklearn.cluster import KMeans\n",
    "from sklearn import preprocessing\n",
    "\n",
    "from astroML.plotting import setup_text_plots\n",
    "setup_text_plots(fontsize=8, usetex=True)"
   ]
  },
  {
   "cell_type": "code",
   "execution_count": 2,
   "metadata": {
    "collapsed": true
   },
   "outputs": [],
   "source": [
    "data = Table.read('breddkatalog_fluxes.csv', converters = {'col1': [ascii.convert_numpy(np.str)]})"
   ]
  },
  {
   "cell_type": "code",
   "execution_count": 3,
   "metadata": {
    "collapsed": false
   },
   "outputs": [
    {
     "name": "stdout",
     "output_type": "stream",
     "text": [
      "    Name       T90      Flnc     Flnc_err  ... alpha_nerr    beta    W  \n",
      "------------ ------- ---------- ---------- ... ---------- --------- ----\n",
      "GRB080714745  59.649  6.333e-06 1.4144e-07 ...  0.1744832 -6.913354 0.99\n",
      "GRB080723557  58.369  7.223e-05 2.5419e-07 ... 0.08686186 -2.410852 1.24\n",
      "GRB080723985  42.816 3.0792e-05 2.0698e-07 ... 0.08320153 -2.641696 1.15\n",
      "GRB080724401 379.397 1.5691e-05 5.0397e-08 ...  0.1188199 -2.411934 1.31\n",
      "GRB080725435   25.92 7.9853e-06 4.4172e-08 ...   0.187779 -2.534569 1.26\n",
      "GRB080725541    0.96 4.9216e-07 4.3882e-08 ...   0.353165 -5.732057 1.01\n",
      "GRB080727964  89.089 1.3298e-05 7.9086e-08 ...  0.1893466 -18.26271 0.98\n",
      "GRB080730520  17.408 4.8707e-06 9.8931e-08 ...  0.3855068 -2.254599 1.63\n",
      "GRB080730786  13.312  6.346e-06 8.3102e-08 ...  0.1057001 -2.569786 1.05\n",
      "GRB080802386   0.576 3.9772e-07  6.852e-09 ...  0.3591147 -12.30418 0.83\n",
      "         ...     ...        ...        ... ...        ...       ...  ...\n",
      "GRB150923864   1.792 1.5772e-06 1.4473e-08 ...  0.4622931 -2.624092 0.91\n",
      "GRB150923995  17.152 8.3327e-07 2.9234e-08 ...  0.5257701 -5.381182 0.97\n",
      "GRB150928359  53.504 3.5511e-06 4.4867e-08 ...  0.5439023 -2.293797 1.68\n",
      "GRB151001348 377.862 2.0203e-05 1.3895e-07 ...  0.1429203 -2.989663 1.05\n",
      "GRB151001628  23.552 2.6718e-06 6.4636e-08 ...  0.4551944 -9.622573 0.96\n",
      "GRB151011136  25.344 7.5527e-06 9.2546e-08 ...  0.1578494 -13.20429 0.88\n",
      "GRB151014592  34.304 2.8912e-06 3.6013e-08 ...   1.478108 -2.149578 2.35\n",
      "GRB151021791   7.229 1.2258e-05 3.8029e-08 ... 0.06435489 -2.435074 1.25\n",
      "GRB151023104   10.24 1.3359e-06 2.3352e-08 ...  0.3023022 -7.768634 0.89\n",
      "GRB151024179   4.608 2.7879e-07 2.0322e-08 ...  0.2928934 -5.889893 1.99\n",
      "GRB151026523  63.232 4.3163e-06 6.9493e-08 ...  0.7944524 -8.187179  0.6\n",
      "Length = 1144 rows\n"
     ]
    }
   ],
   "source": [
    "print data"
   ]
  },
  {
   "cell_type": "code",
   "execution_count": 4,
   "metadata": {
    "collapsed": true
   },
   "outputs": [],
   "source": [
    "name = data['Name']\n",
    "width = data['W']\n",
    "alpha = data['alpha'] \n",
    "epk = data['Epk'] \n",
    "t90 = data['T90']\n",
    "flnc = data['Flnc']\n",
    "flux = data['Pflux1024']\n",
    "beta = data['beta']"
   ]
  },
  {
   "cell_type": "code",
   "execution_count": 5,
   "metadata": {
    "collapsed": false
   },
   "outputs": [],
   "source": [
    "X = np.vstack([alpha,beta]).T\n"
   ]
  },
  {
   "cell_type": "code",
   "execution_count": null,
   "metadata": {
    "collapsed": false,
    "scrolled": true
   },
   "outputs": [],
   "source": [
    "\n",
    "\n"
   ]
  },
  {
   "cell_type": "code",
   "execution_count": 6,
   "metadata": {
    "collapsed": false
   },
   "outputs": [
    {
     "data": {
      "text/plain": [
       "(1144, 2)"
      ]
     },
     "execution_count": 6,
     "metadata": {},
     "output_type": "execute_result"
    }
   ],
   "source": [
    "np.shape(X)\n"
   ]
  },
  {
   "cell_type": "code",
   "execution_count": 7,
   "metadata": {
    "collapsed": false,
    "scrolled": true
   },
   "outputs": [
    {
     "data": {
      "text/plain": [
       "KMeans(copy_x=True, init='k-means++', max_iter=300, n_clusters=5, n_init=10,\n",
       "    n_jobs=1, precompute_distances='auto', random_state=None, tol=0.0001,\n",
       "    verbose=0)"
      ]
     },
     "execution_count": 7,
     "metadata": {},
     "output_type": "execute_result"
    }
   ],
   "source": [
    "n_clusters = 5\n",
    "\n",
    "scaler = preprocessing.StandardScaler()\n",
    "clf = KMeans(n_clusters)\n",
    "clf.fit(scaler.fit_transform(X))"
   ]
  },
  {
   "cell_type": "code",
   "execution_count": 8,
   "metadata": {
    "collapsed": false
   },
   "outputs": [
    {
     "data": {
      "image/png": "[encoded data removed]",
      "text/plain": [
       "<matplotlib.figure.Figure at 0x10f11d110>"
      ]
     },
     "metadata": {},
     "output_type": "display_data"
    }
   ],
   "source": [
    "H, alpha_bins, beta_bins = np.histogram2d(alpha, beta, 100)\n",
    "# Visualize the results\n",
    "fig = plt.figure(figsize=(8, 8))\n",
    "ax = fig.add_subplot()\n",
    "\n",
    "# plot density\n",
    "ax = plt.axes()\n",
    "ax.imshow(H.T, origin='lower', interpolation='nearest', aspect='auto',\n",
    "          extent=[alpha_bins[0], alpha_bins[-1],\n",
    "                  beta_bins[0], beta_bins[-1]],\n",
    "          cmap=plt.cm.binary)\n",
    "\n",
    "# plot cluster centers\n",
    "cluster_centers = scaler.inverse_transform(clf.cluster_centers_)\n",
    "ax.scatter(cluster_centers[:, 0], cluster_centers[:, 1],\n",
    "           s=40, c='w', edgecolors='k')\n",
    "\n",
    "# plot cluster boundaries\n",
    "\n",
    "alpha_centers = 0.5 * (alpha_bins[1:] + alpha_bins[:-1])\n",
    "beta_centers = 0.5 * (beta_bins[1:] + beta_bins[:-1])\n",
    "\n",
    "Xgrid = np.meshgrid(alpha_centers, beta_centers)\n",
    "Xgrid = np.array(Xgrid).reshape((2, 100 * 100)).T\n",
    "\n",
    "H = clf.predict(scaler.transform(Xgrid)).reshape((100, 100))\n",
    "\n",
    "for i in range(n_clusters):\n",
    "    Hcp = H.copy()\n",
    "    flag = (Hcp == i)\n",
    "    Hcp[flag] = 1\n",
    "    Hcp[~flag] = 0\n",
    "\n",
    "ax.contour(alpha_centers, beta_centers, Hcp, [-0.5, 0.5],\n",
    "               linewidths=1, colors='k')\n",
    "ax.xaxis.set_major_locator(plt.MultipleLocator(0.3))\n",
    "ax.set_xlim(-1.101, 0.101)\n",
    "ax.set_ylim(beta_bins[0], beta_bins[-1])\n",
    "\n",
    "ax.set_xlabel(r'$\\rm \\alpha$')\n",
    "ax.set_ylabel(r'$\\rm \\beta$')\n",
    "\n",
    "plt.show()\n"
   ]
  },
  {
   "cell_type": "code",
   "execution_count": null,
   "metadata": {
    "collapsed": true
   },
   "outputs": [],
   "source": []
  }
 ],
 "metadata": {
  "kernelspec": {
   "display_name": "Python 2",
   "language": "python",
   "name": "python2"
  },
  "language_info": {
   "codemirror_mode": {
    "name": "ipython",
    "version": 2
   },
   "file_extension": ".py",
   "mimetype": "text/x-python",
   "name": "python",
   "nbconvert_exporter": "python",
   "pygments_lexer": "ipython2",
   "version": "2.7.11"
  }
 },
 "nbformat": 4,
 "nbformat_minor": 0
}
