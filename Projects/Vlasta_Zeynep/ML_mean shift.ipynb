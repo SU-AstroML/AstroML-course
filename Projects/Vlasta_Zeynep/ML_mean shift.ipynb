{
 "cells": [
  {
   "cell_type": "code",
   "execution_count": 1,
   "metadata": {
    "collapsed": false
   },
   "outputs": [
    {
     "name": "stdout",
     "output_type": "stream",
     "text": [
      "Populating the interactive namespace from numpy and matplotlib\n"
     ]
    }
   ],
   "source": [
    "%pylab inline\n",
    "\n",
    "import numpy as np\n",
    "from astropy.table import Table\n",
    "from astropy.io import ascii\n",
    "from matplotlib import pyplot as plt\n",
    "from matplotlib.patches import Ellipse\n",
    "from scipy.stats import norm\n",
    "from sklearn.cluster import MeanShift, estimate_bandwidth\n",
    "from sklearn import preprocessing\n",
    "\n",
    "from astroML.plotting import setup_text_plots\n",
    "setup_text_plots(fontsize=8, usetex=True)"
   ]
  },
  {
   "cell_type": "code",
   "execution_count": 2,
   "metadata": {
    "collapsed": false
   },
   "outputs": [],
   "source": [
    "data = Table.read('breddkatalog_fluxes.csv', converters = {'col1': [ascii.convert_numpy(np.str)]})"
   ]
  },
  {
   "cell_type": "code",
   "execution_count": 3,
   "metadata": {
    "collapsed": false
   },
   "outputs": [
    {
     "name": "stdout",
     "output_type": "stream",
     "text": [
      "    Name       T90      Flnc     Flnc_err  ... alpha_nerr    beta    W  \n",
      "------------ ------- ---------- ---------- ... ---------- --------- ----\n",
      "GRB080714745  59.649  6.333e-06 1.4144e-07 ...  0.1744832 -6.913354 0.99\n",
      "GRB080723557  58.369  7.223e-05 2.5419e-07 ... 0.08686186 -2.410852 1.24\n",
      "GRB080723985  42.816 3.0792e-05 2.0698e-07 ... 0.08320153 -2.641696 1.15\n",
      "GRB080724401 379.397 1.5691e-05 5.0397e-08 ...  0.1188199 -2.411934 1.31\n",
      "GRB080725435   25.92 7.9853e-06 4.4172e-08 ...   0.187779 -2.534569 1.26\n",
      "GRB080725541    0.96 4.9216e-07 4.3882e-08 ...   0.353165 -5.732057 1.01\n",
      "GRB080727964  89.089 1.3298e-05 7.9086e-08 ...  0.1893466 -18.26271 0.98\n",
      "GRB080730520  17.408 4.8707e-06 9.8931e-08 ...  0.3855068 -2.254599 1.63\n",
      "GRB080730786  13.312  6.346e-06 8.3102e-08 ...  0.1057001 -2.569786 1.05\n",
      "GRB080802386   0.576 3.9772e-07  6.852e-09 ...  0.3591147 -12.30418 0.83\n",
      "         ...     ...        ...        ... ...        ...       ...  ...\n",
      "GRB150923864   1.792 1.5772e-06 1.4473e-08 ...  0.4622931 -2.624092 0.91\n",
      "GRB150923995  17.152 8.3327e-07 2.9234e-08 ...  0.5257701 -5.381182 0.97\n",
      "GRB150928359  53.504 3.5511e-06 4.4867e-08 ...  0.5439023 -2.293797 1.68\n",
      "GRB151001348 377.862 2.0203e-05 1.3895e-07 ...  0.1429203 -2.989663 1.05\n",
      "GRB151001628  23.552 2.6718e-06 6.4636e-08 ...  0.4551944 -9.622573 0.96\n",
      "GRB151011136  25.344 7.5527e-06 9.2546e-08 ...  0.1578494 -13.20429 0.88\n",
      "GRB151014592  34.304 2.8912e-06 3.6013e-08 ...   1.478108 -2.149578 2.35\n",
      "GRB151021791   7.229 1.2258e-05 3.8029e-08 ... 0.06435489 -2.435074 1.25\n",
      "GRB151023104   10.24 1.3359e-06 2.3352e-08 ...  0.3023022 -7.768634 0.89\n",
      "GRB151024179   4.608 2.7879e-07 2.0322e-08 ...  0.2928934 -5.889893 1.99\n",
      "GRB151026523  63.232 4.3163e-06 6.9493e-08 ...  0.7944524 -8.187179  0.6\n",
      "Length = 1144 rows\n"
     ]
    }
   ],
   "source": [
    "print data"
   ]
  },
  {
   "cell_type": "code",
   "execution_count": 4,
   "metadata": {
    "collapsed": false
   },
   "outputs": [],
   "source": [
    "name = data['Name']\n",
    "width = data['W']\n",
    "alpha = data['alpha'] \n",
    "epk = data['Epk'] \n",
    "t90 = data['T90']\n",
    "flnc = data['Flnc']\n",
    "flux = data['Pflux1024']\n",
    "beta = data['beta']"
   ]
  },
  {
   "cell_type": "code",
   "execution_count": 5,
   "metadata": {
    "collapsed": false
   },
   "outputs": [],
   "source": [
    "X = np.vstack([alpha, beta]).T"
   ]
  },
  {
   "cell_type": "code",
   "execution_count": 6,
   "metadata": {
    "collapsed": false
   },
   "outputs": [
    {
     "name": "stdout",
     "output_type": "stream",
     "text": [
      "[[-0.8487474 -6.913354 ]\n",
      " [-0.2883679 -2.410852 ]\n",
      " [-0.8383592 -2.641696 ]\n",
      " ..., \n",
      " [-0.6020357 -7.768634 ]\n",
      " [-1.669009  -5.889893 ]\n",
      " [ 1.023789  -8.187179 ]]\n"
     ]
    }
   ],
   "source": [
    "print X"
   ]
  },
  {
   "cell_type": "code",
   "execution_count": 7,
   "metadata": {
    "collapsed": true
   },
   "outputs": [],
   "source": [
    "ms = MeanShift(bandwidth=1.0)"
   ]
  },
  {
   "cell_type": "code",
   "execution_count": 8,
   "metadata": {
    "collapsed": false
   },
   "outputs": [
    {
     "data": {
      "text/plain": [
       "MeanShift(bandwidth=1.0, bin_seeding=False, cluster_all=True, min_bin_freq=1,\n",
       "     n_jobs=1, seeds=None)"
      ]
     },
     "execution_count": 8,
     "metadata": {},
     "output_type": "execute_result"
    }
   ],
   "source": [
    "ms.fit(X)"
   ]
  },
  {
   "cell_type": "code",
   "execution_count": 9,
   "metadata": {
    "collapsed": false
   },
   "outputs": [
    {
     "name": "stdout",
     "output_type": "stream",
     "text": [
      "[[ -0.59493234  -2.58381203]\n",
      " [ -0.75722062  -5.56481508]\n",
      " [ -0.76789525  -7.20799146]\n",
      " [ -0.66034586  -8.70102691]\n",
      " [ -0.64851855 -10.38699642]\n",
      " [ -0.68904243 -12.215788  ]\n",
      " [ -0.7558186  -13.44712933]\n",
      " [ -0.70315469 -14.87427821]\n",
      " [ -0.61846637 -18.20699143]\n",
      " [ -0.42157447 -21.86395333]\n",
      " [  0.93960147  -8.23143067]\n",
      " [  1.10996195  -7.07085375]\n",
      " [  1.145976   -12.30535   ]\n",
      " [ -0.95704173 -23.34442   ]\n",
      " [  0.38234733 -26.01432667]\n",
      " [  7.341802    -2.3563805 ]\n",
      " [  4.6689425   -2.1931105 ]\n",
      " [  2.638088   -26.57161   ]\n",
      " [  1.842449   -16.6678    ]\n",
      " [ -0.265718   -33.90559   ]\n",
      " [ 16.06157     -3.284048  ]\n",
      " [ -0.6988051  -26.5114    ]\n",
      " [  1.99968    -10.93263   ]\n",
      " [ 19.10632     -3.155147  ]\n",
      " [  0.9404837  -19.01562   ]\n",
      " [ -0.4545083  -32.15789   ]\n",
      " [  1.260762    -9.726612  ]] [ 2  0  0 ...,  2  1 10]\n"
     ]
    }
   ],
   "source": [
    "centers = ms.cluster_centers_\n",
    "labels = ms.labels_\n",
    "print centers, labels"
   ]
  },
  {
   "cell_type": "code",
   "execution_count": 10,
   "metadata": {
    "collapsed": false
   },
   "outputs": [],
   "source": [
    "#start from the scaling of data \n",
    "X_scaled = preprocessing.scale(X)"
   ]
  },
  {
   "cell_type": "code",
   "execution_count": 11,
   "metadata": {
    "collapsed": true
   },
   "outputs": [],
   "source": [
    "#bandwidth = estimate_bandwidth(X)\n",
    "bandwidth = 0.8"
   ]
  },
  {
   "cell_type": "code",
   "execution_count": 14,
   "metadata": {
    "collapsed": false
   },
   "outputs": [
    {
     "name": "stdout",
     "output_type": "stream",
     "text": [
      "[-1  0  1  2  3  4  5  6  7  8  9]\n",
      "0.8\n",
      "number of estimated clusters : 10\n"
     ]
    },
    {
     "data": {
      "image/png": "[encoded data removed]",
      "text/plain": [
       "<matplotlib.figure.Figure at 0x111173a50>"
      ]
     },
     "metadata": {},
     "output_type": "display_data"
    }
   ],
   "source": [
    "ms = MeanShift(bandwidth=bandwidth, bin_seeding=True, cluster_all=False)\n",
    "ms.fit(X_scaled)\n",
    "\n",
    "labels_unique = np.unique(ms.labels_)\n",
    "n_clusters = len(labels_unique[labels_unique >= 0])\n",
    "print labels_unique\n",
    "print bandwidth\n",
    "print \"number of estimated clusters : %d\" % n_clusters\n",
    "\n",
    "fig = plt.figure(figsize=(5, 5))\n",
    "ax = fig.add_subplot(111)\n",
    "# plot density\n",
    "H, alpha_bins, beta_bins = np.histogram2d(data['alpha'], data['beta'],  51)\n",
    "\n",
    "ax.imshow(H.T, origin='lower', interpolation='nearest', aspect='auto',\n",
    "          extent=[alpha_bins[0], alpha_bins[-1],\n",
    "                  beta_bins[0], beta_bins[-1]],\n",
    "          cmap=plt.cm.binary)\n",
    "# plot clusters\n",
    "colors = ['b', 'g', 'r', 'k']\n",
    "\n",
    "for i in range(n_clusters):\n",
    "    Xi = X[ms.labels_ == i]\n",
    "    H, b1, b2 = np.histogram2d(Xi[:, 0], Xi[:, 1], (alpha_bins, beta_bins))\n",
    "\n",
    "    bins = [0.1]\n",
    "\n",
    "    ax.contour(0.5 * (alpha_bins[1:] + alpha_bins[:-1]),\n",
    "               0.5 * (beta_bins[1:] + beta_bins[:-1]),\n",
    "               H.T, bins, colors='w')\n",
    "\n",
    "ax.xaxis.set_major_locator(plt.MultipleLocator(1))\n",
    "ax.set_xlim(-5,5)\n",
    "ax.set_ylim(-25, 1)\n",
    "ax.set_xlabel(r'$\\rm [alpha]$')\n",
    "ax.set_ylabel(r'$\\rm [beta]$')\n",
    "\n",
    "plt.show()"
   ]
  },
  {
   "cell_type": "code",
   "execution_count": 15,
   "metadata": {
    "collapsed": false
   },
   "outputs": [
    {
     "data": {
      "text/plain": [
       "<matplotlib.image.AxesImage at 0x1115bf0d0>"
      ]
     },
     "execution_count": 15,
     "metadata": {},
     "output_type": "execute_result"
    },
    {
     "data": {
      "image/png": "[encoded data removed]",
      "text/plain": [
       "<matplotlib.figure.Figure at 0x1110cdc50>"
      ]
     },
     "metadata": {},
     "output_type": "display_data"
    }
   ],
   "source": [
    "fig = plt.figure(figsize=(5, 5))\n",
    "ax = fig.add_subplot(111)\n",
    "\n",
    "# plot density\n",
    "H, alpha_bins, beta_bins = np.histogram2d(data['alpha'], data['beta'],  51)\n",
    "\n",
    "ax.imshow(H.T, origin='lower', interpolation='nearest', aspect='auto',\n",
    "          extent=[alpha_bins[0], alpha_bins[-1],\n",
    "                  beta_bins[0], beta_bins[-1]],\n",
    "          cmap=plt.cm.binary)"
   ]
  },
  {
   "cell_type": "code",
   "execution_count": 16,
   "metadata": {
    "collapsed": false
   },
   "outputs": [
    {
     "data": {
      "image/png": "[encoded data removed]",
      "text/plain": [
       "<matplotlib.figure.Figure at 0x11111c6d0>"
      ]
     },
     "metadata": {},
     "output_type": "display_data"
    }
   ],
   "source": [
    "fig = plt.figure(figsize=(5, 5))\n",
    "ax = fig.add_subplot(111)\n",
    "# plot density\n",
    "H, alpha_bins, beta_bins = np.histogram2d(data['alpha'], data['beta'],  51)\n",
    "\n",
    "ax.imshow(H.T, origin='lower', interpolation='nearest', aspect='auto',\n",
    "          extent=[alpha_bins[0], alpha_bins[-1],\n",
    "                  beta_bins[0], beta_bins[-1]],\n",
    "          cmap=plt.cm.binary)\n",
    "# plot clusters\n",
    "colors = ['b', 'g', 'r', 'k']\n",
    "\n",
    "for i in range(n_clusters):\n",
    "    Xi = X[ms.labels_ == i]\n",
    "    H, b1, b2 = np.histogram2d(Xi[:, 0], Xi[:, 1], (alpha_bins, beta_bins))\n",
    "\n",
    "    bins = [0.1]\n",
    "\n",
    "    ax.contour(0.5 * (alpha_bins[1:] + alpha_bins[:-1]),\n",
    "               0.5 * (beta_bins[1:] + beta_bins[:-1]),\n",
    "               H.T, bins, colors='r')\n",
    "\n",
    "ax.xaxis.set_major_locator(plt.MultipleLocator(1))\n",
    "ax.set_xlim(-5,5)\n",
    "ax.set_ylim(-25, -2)\n",
    "ax.set_xlabel(r'$\\rm [alpha]$')\n",
    "ax.set_ylabel(r'$\\rm [beta]$')\n",
    "\n",
    "plt.show()"
   ]
  },
  {
   "cell_type": "code",
   "execution_count": null,
   "metadata": {
    "collapsed": true
   },
   "outputs": [],
   "source": []
  }
 ],
 "metadata": {
  "kernelspec": {
   "display_name": "Python 2",
   "language": "python",
   "name": "python2"
  },
  "language_info": {
   "codemirror_mode": {
    "name": "ipython",
    "version": 2
   },
   "file_extension": ".py",
   "mimetype": "text/x-python",
   "name": "python",
   "nbconvert_exporter": "python",
   "pygments_lexer": "ipython2",
   "version": "2.7.11"
  }
 },
 "nbformat": 4,
 "nbformat_minor": 0
}
