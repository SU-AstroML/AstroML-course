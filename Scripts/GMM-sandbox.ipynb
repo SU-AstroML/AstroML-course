{
 "metadata": {
  "name": ""
 },
 "nbformat": 3,
 "nbformat_minor": 0,
 "worksheets": [
  {
   "cells": [
    {
     "cell_type": "code",
     "collapsed": false,
     "input": [
      "import numpy as np\n",
      "from scipy import stats\n",
      "import matplotlib.pyplot as plt\n",
      "%matplotlib inline\n",
      "from sklearn.mixture import GMM\n",
      "np.random.seed(1)"
     ],
     "language": "python",
     "metadata": {},
     "outputs": [],
     "prompt_number": 1
    },
    {
     "cell_type": "code",
     "collapsed": false,
     "input": [
      "'''\n",
      "mean_1 = 1\n",
      "mean_2 = 5\n",
      "np.random.seed(1)\n",
      "X = np.concatenate((1.5*np.random.normal(mean_1, 1, (1000,1)), np.random.normal(mean_2, 2, (1000,1))))\n",
      "'''"
     ],
     "language": "python",
     "metadata": {},
     "outputs": [
      {
       "metadata": {},
       "output_type": "pyout",
       "prompt_number": 2,
       "text": [
        "'\\nmean_1 = 1\\nmean_2 = 5\\nnp.random.seed(1)\\nX = np.concatenate((1.5*np.random.normal(mean_1, 1, (1000,1)), np.random.normal(mean_2, 2, (1000,1))))\\n'"
       ]
      }
     ],
     "prompt_number": 2
    },
    {
     "cell_type": "code",
     "collapsed": false,
     "input": [
      "'''\n",
      "model = GMM(2, n_iter=100)\n",
      "model.fit(X)\n",
      "print 'model means:',model.means_[0][0],model.means_[1][0] #print result of fit\n",
      "\n",
      "X_model = model.sample(1000)\n",
      "pdf = np.exp(model.score(X_model))\n",
      "\n",
      "plt.hist(X, bins=100, normed=True, histtype='step', color='green')\n",
      "plt.hist(X_model, bins=100, normed=True, histtype='step', color='blue')\n",
      "plt.plot(X_model, pdf, '.r')\n",
      "#plt.bar(bins[:-1],result_data,width=width) #data\n",
      "#plt.plot(bins[:-1]+0.5*(bins[1]-bins[0]),result_model, color='red',lw=5) #model\n",
      "plt.show()\n",
      "'''"
     ],
     "language": "python",
     "metadata": {},
     "outputs": [
      {
       "metadata": {},
       "output_type": "pyout",
       "prompt_number": 3,
       "text": [
        "\"\\nmodel = GMM(2, n_iter=100)\\nmodel.fit(X)\\nprint 'model means:',model.means_[0][0],model.means_[1][0] #print result of fit\\n\\nX_model = model.sample(1000)\\npdf = np.exp(model.score(X_model))\\n\\nplt.hist(X, bins=100, normed=True, histtype='step', color='green')\\nplt.hist(X_model, bins=100, normed=True, histtype='step', color='blue')\\nplt.plot(X_model, pdf, '.r')\\n#plt.bar(bins[:-1],result_data,width=width) #data\\n#plt.plot(bins[:-1]+0.5*(bins[1]-bins[0]),result_model, color='red',lw=5) #model\\nplt.show()\\n\""
       ]
      }
     ],
     "prompt_number": 3
    },
    {
     "cell_type": "code",
     "collapsed": false,
     "input": [
      "traindata = np.concatenate((\n",
      "                            np.random.normal(1, 1, (10000,1)), \n",
      "                            5+np.random.normal(3, 0.5, (10000,1)), \n",
      "                            np.random.normal(10, 1, (10000,1))\n",
      "                            ))\n",
      "plt.hist(traindata, bins=100, histtype='step')\n",
      "plt.show()"
     ],
     "language": "python",
     "metadata": {},
     "outputs": [
      {
       "metadata": {},
       "output_type": "display_data",
       "png": "[encoded data removed]",
       "text": [
        "<matplotlib.figure.Figure at 0x7fdf09dbfa90>"
       ]
      }
     ],
     "prompt_number": 4
    },
    {
     "cell_type": "code",
     "collapsed": false,
     "input": [
      "#Alternative training data\n",
      "'''\n",
      "gmm = GMM(3, n_iter=1)\n",
      "gmm.means_ = np.array([[1], [8], [10]])\n",
      "gmm.covars_ = np.array([[1], [0.5], [1]])**2\n",
      "\n",
      "traindata = gmm.sample(30000)\n",
      "print gmm\n",
      "plt.hist(traindata, bins=100, histtype='step')\n",
      "plt.show()\n",
      "'''"
     ],
     "language": "python",
     "metadata": {},
     "outputs": [
      {
       "metadata": {},
       "output_type": "pyout",
       "prompt_number": 5,
       "text": [
        "\"\\ngmm = GMM(3, n_iter=1)\\ngmm.means_ = np.array([[1], [8], [10]])\\ngmm.covars_ = np.array([[1], [0.5], [1]])**2\\n\\ntraindata = gmm.sample(30000)\\nprint gmm\\nplt.hist(traindata, bins=100, histtype='step')\\nplt.show()\\n\""
       ]
      }
     ],
     "prompt_number": 5
    },
    {
     "cell_type": "code",
     "collapsed": false,
     "input": [
      "N = np.arange(1, 10)\n",
      "models = [None for i in range(len(N))]\n",
      "do_converge = [False for i in range(len(N))]\n",
      "AICs = [0 for i in range(len(N))]\n",
      "BICs = [0 for i in range(len(N))]\n",
      "\n",
      "for i in range(len(N)):\n",
      "    print i\n",
      "    models[i] = GMM(n_components=N[i], covariance_type='diag', \n",
      "                random_state=10, min_covar=1e-4, tol=1e-5, \n",
      "                n_iter=1000, n_init=10, params='wmc', verbose=0).fit(traindata)\n",
      "    do_converge[i] = models[i].converged_\n",
      "    AICs[i] = models[i].aic(traindata)\n",
      "    BICs[i] = models[i].bic(traindata) #Bayesian information Criterion\n",
      "    print models[i], do_converge[i]\n",
      "    print 'means:', models[i].means_\n",
      "    print 'covars:', models[i].covars_\n",
      "    print 'weights:', models[i].weights_"
     ],
     "language": "python",
     "metadata": {},
     "outputs": [
      {
       "output_type": "stream",
       "stream": "stdout",
       "text": [
        "0\n",
        "GMM(covariance_type='diag', init_params='wmc', min_covar=0.0001,\n",
        "  n_components=1, n_init=10, n_iter=1000, params='wmc', random_state=10,\n",
        "  thresh=None, tol=1e-05, verbose=0)"
       ]
      },
      {
       "output_type": "stream",
       "stream": "stdout",
       "text": [
        " True\n",
        "means: [[ 6.33329561]]\n",
        "covars: [[ 15.57059065]]\n",
        "weights: [ 1.]\n",
        "1\n",
        "GMM(covariance_type='diag', init_params='wmc', min_covar=0.0001,\n",
        "  n_components=2, n_init=10, n_iter=1000, params='wmc', random_state=10,\n",
        "  thresh=None, tol=1e-05, verbose=0)"
       ]
      },
      {
       "output_type": "stream",
       "stream": "stdout",
       "text": [
        " True\n",
        "means: [[ 8.99329328]\n",
        " [ 1.00701327]]\n",
        "covars: [[ 1.60946291]\n",
        " [ 0.98866158]]\n",
        "weights: [ 0.66692908  0.33307092]\n",
        "2\n",
        "GMM(covariance_type='diag', init_params='wmc', min_covar=0.0001,\n",
        "  n_components=3, n_init=10, n_iter=1000, params='wmc', random_state=10,\n",
        "  thresh=None, tol=1e-05, verbose=0)"
       ]
      },
      {
       "output_type": "stream",
       "stream": "stdout",
       "text": [
        " True\n",
        "means: [[ 10.02554079]\n",
        " [  1.00979651]\n",
        " [  8.0212917 ]]\n",
        "covars: [[ 0.95406552]\n",
        " [ 0.99778566]\n",
        " [ 0.26280971]]\n",
        "weights: [ 0.32390197  0.33333494  0.34276309]\n",
        "3\n",
        "GMM(covariance_type='diag', init_params='wmc', min_covar=0.0001,\n",
        "  n_components=4, n_init=10, n_iter=1000, params='wmc', random_state=10,\n",
        "  thresh=None, tol=1e-05, verbose=0)"
       ]
      },
      {
       "output_type": "stream",
       "stream": "stdout",
       "text": [
        " True\n",
        "means: [[  8.02107551]\n",
        " [  0.98565608]\n",
        " [ 10.0229066 ]\n",
        " [  1.09716421]]\n",
        "covars: [[ 0.26274995]\n",
        " [ 0.93124884]\n",
        " [ 0.95786702]\n",
        " [ 1.2291999 ]]\n",
        "weights: [ 0.34229373  0.26104994  0.32436844  0.07228788]\n",
        "4\n",
        "GMM(covariance_type='diag', init_params='wmc', min_covar=0.0001,\n",
        "  n_components=5, n_init=10, n_iter=1000, params='wmc', random_state=10,\n",
        "  thresh=None, tol=1e-05, verbose=0)"
       ]
      },
      {
       "output_type": "stream",
       "stream": "stdout",
       "text": [
        " True\n",
        "means: [[  0.98114937]\n",
        " [ 10.29860128]\n",
        " [  7.98607427]\n",
        " [  9.17744835]\n",
        " [  1.08231802]]\n",
        "covars: [[ 0.92633875]\n",
        " [ 0.85585891]\n",
        " [ 0.22933342]\n",
        " [ 0.98204472]\n",
        " [ 1.17073087]]\n",
        "weights: [ 0.23934795  0.20911304  0.29888097  0.15868129  0.09397675]\n",
        "5\n",
        "GMM(covariance_type='diag', init_params='wmc', min_covar=0.0001,\n",
        "  n_components=6, n_init=10, n_iter=1000, params='wmc', random_state=10,\n",
        "  thresh=None, tol=1e-05, verbose=0)"
       ]
      },
      {
       "output_type": "stream",
       "stream": "stdout",
       "text": [
        " True\n",
        "means: [[ 10.14985097]\n",
        " [  0.97690393]\n",
        " [  8.1832371 ]\n",
        " [  7.95903356]\n",
        " [  1.08282869]\n",
        " [  9.96656003]]\n",
        "covars: [[ 0.69218604]\n",
        " [ 0.91658434]\n",
        " [ 0.37419944]\n",
        " [ 0.21078129]\n",
        " [ 1.17023793]\n",
        " [ 1.18227681]]\n",
        "weights: [ 0.14585257  0.22989867  0.15021209  0.20250225  0.10343431  0.16810012]\n",
        "6\n",
        "GMM(covariance_type='diag', init_params='wmc', min_covar=0.0001,\n",
        "  n_components=7, n_init=10, n_iter=1000, params='wmc', random_state=10,\n",
        "  thresh=None, tol=1e-05, verbose=0)"
       ]
      },
      {
       "output_type": "stream",
       "stream": "stdout",
       "text": [
        " True\n",
        "means: [[  7.97286196]\n",
        " [  0.97258578]\n",
        " [ 10.29981384]\n",
        " [  8.70923895]\n",
        " [  1.13997497]\n",
        " [  9.95056615]\n",
        " [  1.03960315]]\n",
        "covars: [[ 0.22103198]\n",
        " [ 0.90714721]\n",
        " [ 0.66548454]\n",
        " [ 0.69535677]\n",
        " [ 1.23278893]\n",
        " [ 1.24092784]\n",
        " [ 1.08469168]]\n",
        "weights: [ 0.27864379  0.19379586  0.14425303  0.10982926  0.03016389  0.13394503\n",
        "  0.10936914]\n",
        "7\n",
        "GMM(covariance_type='diag', init_params='wmc', min_covar=0.0001,\n",
        "  n_components=8, n_init=10, n_iter=1000, params='wmc', random_state=10,\n",
        "  thresh=None, tol=1e-05, verbose=0)"
       ]
      },
      {
       "output_type": "stream",
       "stream": "stdout",
       "text": [
        " True\n",
        "means: [[  9.43175743]\n",
        " [  1.0358192 ]\n",
        " [  8.58496113]\n",
        " [ 10.35612945]\n",
        " [  0.96869471]\n",
        " [  1.12428064]\n",
        " [  7.96626011]\n",
        " [ 10.18337099]]\n",
        "covars: [[ 1.05266505]\n",
        " [ 1.06886344]\n",
        " [ 0.60869731]\n",
        " [ 0.55965875]\n",
        " [ 0.90316273]\n",
        " [ 1.20528385]\n",
        " [ 0.21807094]\n",
        " [ 1.1704963 ]]\n",
        "weights: [ 0.09122452  0.11298285  0.0884265   0.10540036  0.18118772  0.03915849\n",
        "  0.27086322  0.11075634]\n",
        "8\n",
        "GMM(covariance_type='diag', init_params='wmc', min_covar=0.0001,\n",
        "  n_components=9, n_init=10, n_iter=1000, params='wmc', random_state=10,\n",
        "  thresh=None, tol=1e-05, verbose=0)"
       ]
      },
      {
       "output_type": "stream",
       "stream": "stdout",
       "text": [
        " True\n",
        "means: [[ 10.28473626]\n",
        " [  1.02046054]\n",
        " [  8.23981077]\n",
        " [  9.44608523]\n",
        " [  1.0649185 ]\n",
        " [ 10.04624789]\n",
        " [  0.96913674]\n",
        " [  7.94967715]\n",
        " [  1.22736207]]\n",
        "covars: [[ 0.6622126 ]\n",
        " [ 1.03684158]\n",
        " [ 0.38548079]\n",
        " [ 1.05824998]\n",
        " [ 1.13385875]\n",
        " [ 1.21886088]\n",
        " [ 0.89465885]\n",
        " [ 0.21051397]\n",
        " [ 1.34366488]]\n",
        "weights: [ 0.1201246   0.10806859  0.10640965  0.0963821   0.05686926  0.11509747\n",
        "  0.15856118  0.22865647  0.00983069]\n"
       ]
      }
     ],
     "prompt_number": 6
    },
    {
     "cell_type": "code",
     "collapsed": false,
     "input": [
      "plt.plot(N, AICs, 'or', label='AIC')\n",
      "plt.plot(N, BICs, '--g', label='BIC')\n",
      "plt.legend(loc=1)\n",
      "plt.show()\n",
      "best_model = models[np.argmin(AICs)]\n",
      "best_model_BIC = models[np.argmin(BICs)]\n",
      "print best_model, best_model_BIC\n",
      "best_model is best_model_BIC"
     ],
     "language": "python",
     "metadata": {},
     "outputs": [
      {
       "metadata": {},
       "output_type": "display_data",
       "png": "[encoded data removed]",
       "text": [
        "<matplotlib.figure.Figure at 0x7fdf09d3ed50>"
       ]
      },
      {
       "output_type": "stream",
       "stream": "stdout",
       "text": [
        "GMM(covariance_type='diag', init_params='wmc', min_covar=0.0001,\n",
        "  n_components=3, n_init=10, n_iter=1000, params='wmc', random_state=10,\n",
        "  thresh=None, tol=1e-05, verbose=0) GMM(covariance_type='diag', init_params='wmc', min_covar=0.0001,\n",
        "  n_components=3, n_init=10, n_iter=1000, params='wmc', random_state=10,\n",
        "  thresh=None, tol=1e-05, verbose=0)\n"
       ]
      },
      {
       "metadata": {},
       "output_type": "pyout",
       "prompt_number": 17,
       "text": [
        "True"
       ]
      }
     ],
     "prompt_number": 17
    },
    {
     "cell_type": "code",
     "collapsed": false,
     "input": [
      "'''\n",
      "testdata_replace = np.zeros_like(traindata)\n",
      "testdata_replace[:,0] = np.random.choice(traindata[:,0], size=len(traindata[:,0]), replace=True)\n",
      "#testdata = np.random.choice(traindata[:,0], size=3000, replace=False)\n",
      "#plt.hist(testdata, bins=100, histtype='step', color='r', normed=True, label='test-no replace')\n",
      "plt.hist(traindata, bins=100, histtype='step', color='b', normed=True, label='train')\n",
      "plt.hist(testdata_replace, bins=100, histtype='step', color='y', normed=True, label='test-replace')\n",
      "plt.legend(loc=2)\n",
      "plt.show()\n",
      "'''"
     ],
     "language": "python",
     "metadata": {},
     "outputs": [
      {
       "metadata": {},
       "output_type": "pyout",
       "prompt_number": 26,
       "text": [
        "\"\\ntestdata_replace = np.zeros_like(traindata)\\ntestdata_replace[:,0] = np.random.choice(traindata[:,0], size=len(traindata[:,0]), replace=True)\\n#testdata = np.random.choice(traindata[:,0], size=3000, replace=False)\\n#plt.hist(testdata, bins=100, histtype='step', color='r', normed=True, label='test-no replace')\\nplt.hist(traindata, bins=100, histtype='step', color='b', normed=True, label='train')\\nplt.hist(testdata_replace, bins=100, histtype='step', color='y', normed=True, label='test-replace')\\nplt.legend(loc=2)\\nplt.show()\\n\""
       ]
      }
     ],
     "prompt_number": 26
    },
    {
     "cell_type": "code",
     "collapsed": false,
     "input": [
      "testdata = (np.max(traindata)-np.min(traindata))* np.random.random((np.shape(traindata))) + np.min(traindata)\n",
      "plt.hist(traindata, bins=100, histtype='step', color='b', normed=True, label='train')\n",
      "plt.hist(testdata, bins=100, histtype='step', color='y', normed=True, label='test')\n",
      "plt.legend(loc=2)\n",
      "logprob, responsibilities = best_model.score(testdata), best_model.predict_proba(testdata)\n",
      "pdf = np.exp(logprob)\n",
      "pdf_individual = responsibilities * pdf[:, np.newaxis]\n",
      "plt.plot(testdata, pdf, '.m')\n",
      "plt.plot(testdata, pdf_individual, 'ok')\n",
      "plt.show()"
     ],
     "language": "python",
     "metadata": {},
     "outputs": [
      {
       "metadata": {},
       "output_type": "display_data",
       "png": "[encoded data removed]",
       "text": [
        "<matplotlib.figure.Figure at 0x7fdf09a6ddd0>"
       ]
      }
     ],
     "prompt_number": 36
    },
    {
     "cell_type": "code",
     "collapsed": false,
     "input": [],
     "language": "python",
     "metadata": {},
     "outputs": [],
     "prompt_number": 24
    },
    {
     "cell_type": "code",
     "collapsed": false,
     "input": [],
     "language": "python",
     "metadata": {},
     "outputs": []
    }
   ],
   "metadata": {}
  }
 ]
}