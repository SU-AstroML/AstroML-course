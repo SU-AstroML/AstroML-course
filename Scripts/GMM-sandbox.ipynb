{
 "metadata": {
  "name": ""
 },
 "nbformat": 3,
 "nbformat_minor": 0,
 "worksheets": [
  {
   "cells": [
    {
     "cell_type": "code",
     "collapsed": false,
     "input": [
      "import numpy as np\n",
      "from scipy import stats\n",
      "import matplotlib.pyplot as plt\n",
      "%matplotlib inline\n",
      "from sklearn.mixture import GMM\n",
      "np.random.seed(1)"
     ],
     "language": "python",
     "metadata": {},
     "outputs": [],
     "prompt_number": 1
    },
    {
     "cell_type": "code",
     "collapsed": false,
     "input": [
      "'''\n",
      "mean_1 = 1\n",
      "mean_2 = 5\n",
      "np.random.seed(1)\n",
      "X = np.concatenate((1.5*np.random.normal(mean_1, 1, (1000,1)), np.random.normal(mean_2, 2, (1000,1))))\n",
      "'''"
     ],
     "language": "python",
     "metadata": {},
     "outputs": [
      {
       "metadata": {},
       "output_type": "pyout",
       "prompt_number": 2,
       "text": [
        "'\\nmean_1 = 1\\nmean_2 = 5\\nnp.random.seed(1)\\nX = np.concatenate((1.5*np.random.normal(mean_1, 1, (1000,1)), np.random.normal(mean_2, 2, (1000,1))))\\n'"
       ]
      }
     ],
     "prompt_number": 2
    },
    {
     "cell_type": "code",
     "collapsed": false,
     "input": [
      "'''\n",
      "model = GMM(2, n_iter=100)\n",
      "model.fit(X)\n",
      "print 'model means:',model.means_[0][0],model.means_[1][0] #print result of fit\n",
      "\n",
      "X_model = model.sample(1000)\n",
      "pdf = np.exp(model.score(X_model))\n",
      "\n",
      "plt.hist(X, bins=100, normed=True, histtype='step', color='green')\n",
      "plt.hist(X_model, bins=100, normed=True, histtype='step', color='blue')\n",
      "plt.plot(X_model, pdf, '.r')\n",
      "#plt.bar(bins[:-1],result_data,width=width) #data\n",
      "#plt.plot(bins[:-1]+0.5*(bins[1]-bins[0]),result_model, color='red',lw=5) #model\n",
      "plt.show()\n",
      "'''"
     ],
     "language": "python",
     "metadata": {},
     "outputs": [
      {
       "metadata": {},
       "output_type": "pyout",
       "prompt_number": 3,
       "text": [
        "\"\\nmodel = GMM(2, n_iter=100)\\nmodel.fit(X)\\nprint 'model means:',model.means_[0][0],model.means_[1][0] #print result of fit\\n\\nX_model = model.sample(1000)\\npdf = np.exp(model.score(X_model))\\n\\nplt.hist(X, bins=100, normed=True, histtype='step', color='green')\\nplt.hist(X_model, bins=100, normed=True, histtype='step', color='blue')\\nplt.plot(X_model, pdf, '.r')\\n#plt.bar(bins[:-1],result_data,width=width) #data\\n#plt.plot(bins[:-1]+0.5*(bins[1]-bins[0]),result_model, color='red',lw=5) #model\\nplt.show()\\n\""
       ]
      }
     ],
     "prompt_number": 3
    },
    {
     "cell_type": "code",
     "collapsed": false,
     "input": [
      "traindata = np.concatenate((\n",
      "                            np.random.normal(1, 1, (10000,1)), \n",
      "                            5+np.random.normal(3, 0.5, (10000,1)), \n",
      "                            np.random.normal(10, 1, (10000,1))\n",
      "                            ))\n",
      "plt.hist(traindata, bins=100, histtype='step')\n",
      "plt.show()"
     ],
     "language": "python",
     "metadata": {},
     "outputs": [
      {
       "metadata": {},
       "output_type": "display_data",
       "png": "[encoded data removed]",
       "text": [
        "<matplotlib.figure.Figure at 0x7fdf09dbfa90>"
       ]
      }
     ],
     "prompt_number": 4
    },
    {
     "cell_type": "code",
     "collapsed": false,
     "input": [
      "#Alternative training data\n",
      "'''\n",
      "gmm = GMM(3, n_iter=1)\n",
      "gmm.means_ = np.array([[1], [8], [10]])\n",
      "gmm.covars_ = np.array([[1], [0.5], [1]])**2\n",
      "\n",
      "traindata = gmm.sample(30000)\n",
      "print gmm\n",
      "plt.hist(traindata, bins=100, histtype='step')\n",
      "plt.show()\n",
      "'''"
     ],
     "language": "python",
     "metadata": {},
     "outputs": [
      {
       "metadata": {},
       "output_type": "pyout",
       "prompt_number": 5,
       "text": [
        "\"\\ngmm = GMM(3, n_iter=1)\\ngmm.means_ = np.array([[1], [8], [10]])\\ngmm.covars_ = np.array([[1], [0.5], [1]])**2\\n\\ntraindata = gmm.sample(30000)\\nprint gmm\\nplt.hist(traindata, bins=100, histtype='step')\\nplt.show()\\n\""
       ]
      }
     ],
     "prompt_number": 5
    },
    {
     "cell_type": "code",
     "collapsed": false,
     "input": [
      "N = np.arange(1, 10)\n",
      "models = [None for i in range(len(N))]\n",
      "do_converge = [False for i in range(len(N))]\n",
      "AICs = [0 for i in range(len(N))]\n",
      "BICs = [0 for i in range(len(N))]\n",
      "\n",
      "for i in range(len(N)):\n",
      "    print i\n",
      "    models[i] = GMM(n_components=N[i], covariance_type='diag', \n",
      "                random_state=10, min_covar=1e-4, tol=1e-5, \n",
      "                n_iter=1000, n_init=10, params='wmc', verbose=0).fit(traindata)\n",
      "    do_converge[i] = models[i].converged_\n",
      "    AICs[i] = models[i].aic(traindata)\n",
      "    BICs[i] = models[i].bic(traindata) #Bayesian information Criterion\n",
      "    print models[i], do_converge[i]\n",
      "    print 'means:', models[i].means_\n",
      "    print 'covars:', models[i].covars_\n",
      "    print 'weights:', models[i].weights_"
     ],
     "language": "python",
     "metadata": {},
     "outputs": [
      {
       "output_type": "stream",
       "stream": "stdout",
       "text": [
        "0\n",
        "GMM(covariance_type='diag', init_params='wmc', min_covar=0.0001,\n",
        "  n_components=1, n_init=10, n_iter=1000, params='wmc', random_state=10,\n",
        "  thresh=None, tol=1e-05, verbose=0)"
       ]
      },
      {
       "output_type": "stream",
       "stream": "stdout",
       "text": [
        " True\n",
        "means: [[ 6.33329561]]\n",
        "covars: [[ 15.57059065]]\n",
        "weights: [ 1.]\n",
        "1\n",
        "GMM(covariance_type='diag', init_params='wmc', min_covar=0.0001,\n",
        "  n_components=2, n_init=10, n_iter=1000, params='wmc', random_state=10,\n",
        "  thresh=None, tol=1e-05, verbose=0)"
       ]
      },
      {
       "output_type": "stream",
       "stream": "stdout",
       "text": [
        " True\n",
        "means: [[ 8.99329328]\n",
        " [ 1.00701327]]\n",
        "covars: [[ 1.60946291]\n",
        " [ 0.98866158]]\n",
        "weights: [ 0.66692908  0.33307092]\n",
        "2\n",
        "GMM(covariance_type='diag', init_params='wmc', min_covar=0.0001,\n",
        "  n_components=3, n_init=10, n_iter=1000, params='wmc', random_state=10,\n",
        "  thresh=None, tol=1e-05, verbose=0)"
       ]
      },
      {
       "output_type": "stream",
       "stream": "stdout",
       "text": [
        " True\n",
        "means: [[ 10.02554079]\n",
        " [  1.00979651]\n",
        " [  8.0212917 ]]\n",
        "covars: [[ 0.95406552]\n",
        " [ 0.99778566]\n",
        " [ 0.26280971]]\n",
        "weights: [ 0.32390197  0.33333494  0.34276309]\n",
        "3\n",
        "GMM(covariance_type='diag', init_params='wmc', min_covar=0.0001,\n",
        "  n_components=4, n_init=10, n_iter=1000, params='wmc', random_state=10,\n",
        "  thresh=None, tol=1e-05, verbose=0)"
       ]
      },
      {
       "output_type": "stream",
       "stream": "stdout",
       "text": [
        " True\n",
        "means: [[  8.02107551]\n",
        " [  0.98565608]\n",
        " [ 10.0229066 ]\n",
        " [  1.09716421]]\n",
        "covars: [[ 0.26274995]\n",
        " [ 0.93124884]\n",
        " [ 0.95786702]\n",
        " [ 1.2291999 ]]\n",
        "weights: [ 0.34229373  0.26104994  0.32436844  0.07228788]\n",
        "4\n",
        "GMM(covariance_type='diag', init_params='wmc', min_covar=0.0001,\n",
        "  n_components=5, n_init=10, n_iter=1000, params='wmc', random_state=10,\n",
        "  thresh=None, tol=1e-05, verbose=0)"
       ]
      },
      {
       "output_type": "stream",
       "stream": "stdout",
       "text": [
        " True\n",
        "means: [[  0.98114937]\n",
        " [ 10.29860128]\n",
        " [  7.98607427]\n",
        " [  9.17744835]\n",
        " [  1.08231802]]\n",
        "covars: [[ 0.92633875]\n",
        " [ 0.85585891]\n",
        " [ 0.22933342]\n",
        " [ 0.98204472]\n",
        " [ 1.17073087]]\n",
        "weights: [ 0.23934795  0.20911304  0.29888097  0.15868129  0.09397675]\n",
        "5\n",
        "GMM(covariance_type='diag', init_params='wmc', min_covar=0.0001,\n",
        "  n_components=6, n_init=10, n_iter=1000, params='wmc', random_state=10,\n",
        "  thresh=None, tol=1e-05, verbose=0)"
       ]
      },
      {
       "output_type": "stream",
       "stream": "stdout",
       "text": [
        " True\n",
        "means: [[ 10.14985097]\n",
        " [  0.97690393]\n",
        " [  8.1832371 ]\n",
        " [  7.95903356]\n",
        " [  1.08282869]\n",
        " [  9.96656003]]\n",
        "covars: [[ 0.69218604]\n",
        " [ 0.91658434]\n",
        " [ 0.37419944]\n",
        " [ 0.21078129]\n",
        " [ 1.17023793]\n",
        " [ 1.18227681]]\n",
        "weights: [ 0.14585257  0.22989867  0.15021209  0.20250225  0.10343431  0.16810012]\n",
        "6\n",
        "GMM(covariance_type='diag', init_params='wmc', min_covar=0.0001,\n",
        "  n_components=7, n_init=10, n_iter=1000, params='wmc', random_state=10,\n",
        "  thresh=None, tol=1e-05, verbose=0)"
       ]
      },
      {
       "output_type": "stream",
       "stream": "stdout",
       "text": [
        " True\n",
        "means: [[  7.97286196]\n",
        " [  0.97258578]\n",
        " [ 10.29981384]\n",
        " [  8.70923895]\n",
        " [  1.13997497]\n",
        " [  9.95056615]\n",
        " [  1.03960315]]\n",
        "covars: [[ 0.22103198]\n",
        " [ 0.90714721]\n",
        " [ 0.66548454]\n",
        " [ 0.69535677]\n",
        " [ 1.23278893]\n",
        " [ 1.24092784]\n",
        " [ 1.08469168]]\n",
        "weights: [ 0.27864379  0.19379586  0.14425303  0.10982926  0.03016389  0.13394503\n",
        "  0.10936914]\n",
        "7\n",
        "GMM(covariance_type='diag', init_params='wmc', min_covar=0.0001,\n",
        "  n_components=8, n_init=10, n_iter=1000, params='wmc', random_state=10,\n",
        "  thresh=None, tol=1e-05, verbose=0)"
       ]
      },
      {
       "output_type": "stream",
       "stream": "stdout",
       "text": [
        " True\n",
        "means: [[  9.43175743]\n",
        " [  1.0358192 ]\n",
        " [  8.58496113]\n",
        " [ 10.35612945]\n",
        " [  0.96869471]\n",
        " [  1.12428064]\n",
        " [  7.96626011]\n",
        " [ 10.18337099]]\n",
        "covars: [[ 1.05266505]\n",
        " [ 1.06886344]\n",
        " [ 0.60869731]\n",
        " [ 0.55965875]\n",
        " [ 0.90316273]\n",
        " [ 1.20528385]\n",
        " [ 0.21807094]\n",
        " [ 1.1704963 ]]\n",
        "weights: [ 0.09122452  0.11298285  0.0884265   0.10540036  0.18118772  0.03915849\n",
        "  0.27086322  0.11075634]\n",
        "8\n",
        "GMM(covariance_type='diag', init_params='wmc', min_covar=0.0001,\n",
        "  n_components=9, n_init=10, n_iter=1000, params='wmc', random_state=10,\n",
        "  thresh=None, tol=1e-05, verbose=0)"
       ]
      },
      {
       "output_type": "stream",
       "stream": "stdout",
       "text": [
        " True\n",
        "means: [[ 10.28473626]\n",
        " [  1.02046054]\n",
        " [  8.23981077]\n",
        " [  9.44608523]\n",
        " [  1.0649185 ]\n",
        " [ 10.04624789]\n",
        " [  0.96913674]\n",
        " [  7.94967715]\n",
        " [  1.22736207]]\n",
        "covars: [[ 0.6622126 ]\n",
        " [ 1.03684158]\n",
        " [ 0.38548079]\n",
        " [ 1.05824998]\n",
        " [ 1.13385875]\n",
        " [ 1.21886088]\n",
        " [ 0.89465885]\n",
        " [ 0.21051397]\n",
        " [ 1.34366488]]\n",
        "weights: [ 0.1201246   0.10806859  0.10640965  0.0963821   0.05686926  0.11509747\n",
        "  0.15856118  0.22865647  0.00983069]\n"
       ]
      }
     ],
     "prompt_number": 6
    },
    {
     "cell_type": "code",
     "collapsed": false,
     "input": [
      "plt.plot(N, AICs, 'or', label='AIC')\n",
      "plt.plot(N, BICs, '--g', label='BIC')\n",
      "plt.legend(loc=1)\n",
      "plt.show()\n",
      "best_model_AIC = models[np.argmin(AICs)]\n",
      "best_model_BIC = models[np.argmin(BICs)]\n",
      "print best_model_AIC, best_model_BIC\n",
      "best_model_AIC is best_model_BIC"
     ],
     "language": "python",
     "metadata": {},
     "outputs": [
      {
       "metadata": {},
       "output_type": "display_data",
       "png": "[encoded data removed]",
       "text": [
        "<matplotlib.figure.Figure at 0x7fdf09d5a590>"
       ]
      },
      {
       "output_type": "stream",
       "stream": "stdout",
       "text": [
        "GMM(covariance_type='diag', init_params='wmc', min_covar=0.0001,\n",
        "  n_components=3, n_init=10, n_iter=1000, params='wmc', random_state=10,\n",
        "  thresh=None, tol=1e-05, verbose=0) GMM(covariance_type='diag', init_params='wmc', min_covar=0.0001,\n",
        "  n_components=3, n_init=10, n_iter=1000, params='wmc', random_state=10,\n",
        "  thresh=None, tol=1e-05, verbose=0)\n"
       ]
      },
      {
       "metadata": {},
       "output_type": "pyout",
       "prompt_number": 7,
       "text": [
        "True"
       ]
      }
     ],
     "prompt_number": 7
    },
    {
     "cell_type": "code",
     "collapsed": false,
     "input": [
      "testdata_replace = np.random.choice(traindata[:,0], size=10000, replace=True)\n",
      "testdata = np.random.choice(traindata[:,0], size=3000, replace=False)\n",
      "plt.hist(traindata, bins=100, histtype='step', color='b', normed=True, label='train')\n",
      "plt.hist(testdata, bins=100, histtype='step', color='r', normed=True, label='test-replace')\n",
      "plt.hist(testdata_replace, bins=100, histtype='step', color='y', normed=True, label='test-no replace')\n",
      "plt.legend(loc=2)\n",
      "plt.show()"
     ],
     "language": "python",
     "metadata": {},
     "outputs": [
      {
       "metadata": {},
       "output_type": "display_data",
       "png": "[encoded data removed]",
       "text": [
        "<matplotlib.figure.Figure at 0x7fdf09d41310>"
       ]
      }
     ],
     "prompt_number": 8
    },
    {
     "cell_type": "code",
     "collapsed": false,
     "input": [
      "print best_model_AIC.predict(testdata), best_model_AIC.predict(testdata_replace) \n",
      "print np.round(best_model_AIC.score(testdata), 2), np.round(best_model_AIC.score(testdata_replace), 2) \n",
      "#computes the log probability under the model\n",
      "print best_model_AIC.converged_"
     ],
     "language": "python",
     "metadata": {},
     "outputs": [
      {
       "ename": "ValueError",
       "evalue": "The shape of X  is not compatible with self",
       "output_type": "pyerr",
       "traceback": [
        "\u001b[0;31m---------------------------------------------------------------------------\u001b[0m\n\u001b[0;31mValueError\u001b[0m                                Traceback (most recent call last)",
        "\u001b[0;32m<ipython-input-9-a4a4fa8dc989>\u001b[0m in \u001b[0;36m<module>\u001b[0;34m()\u001b[0m\n\u001b[0;32m----> 1\u001b[0;31m \u001b[0;32mprint\u001b[0m \u001b[0mbest_model_AIC\u001b[0m\u001b[0;34m.\u001b[0m\u001b[0mpredict\u001b[0m\u001b[0;34m(\u001b[0m\u001b[0mtestdata\u001b[0m\u001b[0;34m)\u001b[0m\u001b[0;34m,\u001b[0m \u001b[0mbest_model_AIC\u001b[0m\u001b[0;34m.\u001b[0m\u001b[0mpredict\u001b[0m\u001b[0;34m(\u001b[0m\u001b[0mtestdata_replace\u001b[0m\u001b[0;34m)\u001b[0m\u001b[0;34m\u001b[0m\u001b[0m\n\u001b[0m\u001b[1;32m      2\u001b[0m \u001b[0;32mprint\u001b[0m \u001b[0mnp\u001b[0m\u001b[0;34m.\u001b[0m\u001b[0mround\u001b[0m\u001b[0;34m(\u001b[0m\u001b[0mbest_model_AIC\u001b[0m\u001b[0;34m.\u001b[0m\u001b[0mscore\u001b[0m\u001b[0;34m(\u001b[0m\u001b[0mtestdata\u001b[0m\u001b[0;34m)\u001b[0m\u001b[0;34m,\u001b[0m \u001b[0;36m2\u001b[0m\u001b[0;34m)\u001b[0m\u001b[0;34m,\u001b[0m \u001b[0mnp\u001b[0m\u001b[0;34m.\u001b[0m\u001b[0mround\u001b[0m\u001b[0;34m(\u001b[0m\u001b[0mbest_model_AIC\u001b[0m\u001b[0;34m.\u001b[0m\u001b[0mscore\u001b[0m\u001b[0;34m(\u001b[0m\u001b[0mtestdata_replace\u001b[0m\u001b[0;34m)\u001b[0m\u001b[0;34m,\u001b[0m \u001b[0;36m2\u001b[0m\u001b[0;34m)\u001b[0m\u001b[0;34m\u001b[0m\u001b[0m\n\u001b[1;32m      3\u001b[0m \u001b[0;31m#computes the log probability under the model\u001b[0m\u001b[0;34m\u001b[0m\u001b[0;34m\u001b[0m\u001b[0m\n\u001b[1;32m      4\u001b[0m \u001b[0;32mprint\u001b[0m \u001b[0mbest_model_AIC\u001b[0m\u001b[0;34m.\u001b[0m\u001b[0mconverged_\u001b[0m\u001b[0;34m\u001b[0m\u001b[0m\n",
        "\u001b[0;32m/usr/local/lib/python2.7/dist-packages/sklearn/mixture/gmm.pyc\u001b[0m in \u001b[0;36mpredict\u001b[0;34m(self, X)\u001b[0m\n\u001b[1;32m    362\u001b[0m         \u001b[0mC\u001b[0m \u001b[0;34m:\u001b[0m \u001b[0marray\u001b[0m\u001b[0;34m,\u001b[0m \u001b[0mshape\u001b[0m \u001b[0;34m=\u001b[0m \u001b[0;34m(\u001b[0m\u001b[0mn_samples\u001b[0m\u001b[0;34m,\u001b[0m\u001b[0;34m)\u001b[0m \u001b[0mcomponent\u001b[0m \u001b[0mmemberships\u001b[0m\u001b[0;34m\u001b[0m\u001b[0m\n\u001b[1;32m    363\u001b[0m         \"\"\"\n\u001b[0;32m--> 364\u001b[0;31m         \u001b[0mlogprob\u001b[0m\u001b[0;34m,\u001b[0m \u001b[0mresponsibilities\u001b[0m \u001b[0;34m=\u001b[0m \u001b[0mself\u001b[0m\u001b[0;34m.\u001b[0m\u001b[0mscore_samples\u001b[0m\u001b[0;34m(\u001b[0m\u001b[0mX\u001b[0m\u001b[0;34m)\u001b[0m\u001b[0;34m\u001b[0m\u001b[0m\n\u001b[0m\u001b[1;32m    365\u001b[0m         \u001b[0;32mreturn\u001b[0m \u001b[0mresponsibilities\u001b[0m\u001b[0;34m.\u001b[0m\u001b[0margmax\u001b[0m\u001b[0;34m(\u001b[0m\u001b[0maxis\u001b[0m\u001b[0;34m=\u001b[0m\u001b[0;36m1\u001b[0m\u001b[0;34m)\u001b[0m\u001b[0;34m\u001b[0m\u001b[0m\n\u001b[1;32m    366\u001b[0m \u001b[0;34m\u001b[0m\u001b[0m\n",
        "\u001b[0;32m/usr/local/lib/python2.7/dist-packages/sklearn/mixture/gmm.pyc\u001b[0m in \u001b[0;36mscore_samples\u001b[0;34m(self, X)\u001b[0m\n\u001b[1;32m    325\u001b[0m             \u001b[0;32mreturn\u001b[0m \u001b[0mnp\u001b[0m\u001b[0;34m.\u001b[0m\u001b[0marray\u001b[0m\u001b[0;34m(\u001b[0m\u001b[0;34m[\u001b[0m\u001b[0;34m]\u001b[0m\u001b[0;34m)\u001b[0m\u001b[0;34m,\u001b[0m \u001b[0mnp\u001b[0m\u001b[0;34m.\u001b[0m\u001b[0mempty\u001b[0m\u001b[0;34m(\u001b[0m\u001b[0;34m(\u001b[0m\u001b[0;36m0\u001b[0m\u001b[0;34m,\u001b[0m \u001b[0mself\u001b[0m\u001b[0;34m.\u001b[0m\u001b[0mn_components\u001b[0m\u001b[0;34m)\u001b[0m\u001b[0;34m)\u001b[0m\u001b[0;34m\u001b[0m\u001b[0m\n\u001b[1;32m    326\u001b[0m         \u001b[0;32mif\u001b[0m \u001b[0mX\u001b[0m\u001b[0;34m.\u001b[0m\u001b[0mshape\u001b[0m\u001b[0;34m[\u001b[0m\u001b[0;36m1\u001b[0m\u001b[0;34m]\u001b[0m \u001b[0;34m!=\u001b[0m \u001b[0mself\u001b[0m\u001b[0;34m.\u001b[0m\u001b[0mmeans_\u001b[0m\u001b[0;34m.\u001b[0m\u001b[0mshape\u001b[0m\u001b[0;34m[\u001b[0m\u001b[0;36m1\u001b[0m\u001b[0;34m]\u001b[0m\u001b[0;34m:\u001b[0m\u001b[0;34m\u001b[0m\u001b[0m\n\u001b[0;32m--> 327\u001b[0;31m             \u001b[0;32mraise\u001b[0m \u001b[0mValueError\u001b[0m\u001b[0;34m(\u001b[0m\u001b[0;34m'The shape of X  is not compatible with self'\u001b[0m\u001b[0;34m)\u001b[0m\u001b[0;34m\u001b[0m\u001b[0m\n\u001b[0m\u001b[1;32m    328\u001b[0m \u001b[0;34m\u001b[0m\u001b[0m\n\u001b[1;32m    329\u001b[0m         lpr = (log_multivariate_normal_density(X, self.means_, self.covars_,\n",
        "\u001b[0;31mValueError\u001b[0m: The shape of X  is not compatible with self"
       ]
      },
      {
       "output_type": "stream",
       "stream": "stderr",
       "text": [
        "/usr/local/lib/python2.7/dist-packages/sklearn/utils/validation.py:386: DeprecationWarning: Passing 1d arrays as data is deprecated in 0.17 and willraise ValueError in 0.19. Reshape your data either using X.reshape(-1, 1) if your data has a single feature or X.reshape(1, -1) if it contains a single sample.\n",
        "  DeprecationWarning)\n"
       ]
      }
     ],
     "prompt_number": 9
    },
    {
     "cell_type": "code",
     "collapsed": false,
     "input": [],
     "language": "python",
     "metadata": {},
     "outputs": []
    }
   ],
   "metadata": {}
  }
 ]
}