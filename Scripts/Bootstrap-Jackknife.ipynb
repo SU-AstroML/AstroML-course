{
 "metadata": {
  "name": ""
 },
 "nbformat": 3,
 "nbformat_minor": 0,
 "worksheets": [
  {
   "cells": [
    {
     "cell_type": "code",
     "collapsed": false,
     "input": [
      "import numpy as np\n",
      "from scipy import stats\n",
      "from matplotlib import pyplot as plt\n",
      "from astroML.resample import bootstrap, jackknife\n",
      "from astroML.stats import sigmaG\n",
      "from astroML.plotting import setup_text_plots\n",
      "setup_text_plots(fontsize=8, usetex=True)\n",
      "%matplotlib inline"
     ],
     "language": "python",
     "metadata": {},
     "outputs": [],
     "prompt_number": 7
    },
    {
     "cell_type": "markdown",
     "metadata": {},
     "source": [
      "## Figure 4.3"
     ]
    },
    {
     "cell_type": "code",
     "collapsed": false,
     "input": [
      "bootstrap?"
     ],
     "language": "python",
     "metadata": {},
     "outputs": [],
     "prompt_number": 42
    },
    {
     "cell_type": "code",
     "collapsed": false,
     "input": [
      "m = 1000  # number of points\n",
      "n = 10000  # number of bootstraps\n",
      "\n",
      "#------------------------------------------------------------\n",
      "# sample values from a normal distribution\n",
      "np.random.seed(123)\n",
      "data = stats.norm(0, 1).rvs(m)"
     ],
     "language": "python",
     "metadata": {},
     "outputs": [],
     "prompt_number": 43
    },
    {
     "cell_type": "code",
     "collapsed": false,
     "input": [
      "# Compute bootstrap resamplings of data\n",
      "mu1_bootstrap = bootstrap(data, n,  np.std, kwargs=dict(axis=1, ddof=1)) #what does the used_statistics do exactly??\n",
      "#\"The statistics to be computed.\n",
      "#This should take an array of data of size (n_bootstraps, n_samples) and return the row-wise statistics of the data.\"\n",
      "mu2_bootstrap = bootstrap(data, n, sigmaG, kwargs=dict(axis=1))"
     ],
     "language": "python",
     "metadata": {},
     "outputs": [],
     "prompt_number": 44
    },
    {
     "cell_type": "code",
     "collapsed": false,
     "input": [
      "# Compute the theoretical expectations for the two distributions\n",
      "x = np.linspace(0.8, 1.2, 1000)\n",
      "\n",
      "sigma1 = 1. / np.sqrt(2 * (m - 1))\n",
      "pdf1 = stats.norm(1, sigma1).pdf(x)\n",
      "\n",
      "sigma2 = 1.06 / np.sqrt(m)\n",
      "pdf2 = stats.norm(1, sigma2).pdf(x)"
     ],
     "language": "python",
     "metadata": {},
     "outputs": [],
     "prompt_number": 45
    },
    {
     "cell_type": "code",
     "collapsed": false,
     "input": [
      "# Plot the results\n",
      "fig, ax = plt.subplots(figsize=(5, 3.75))\n",
      "\n",
      "ax.hist(mu1_bootstrap, bins=50, normed=True, histtype='step',\n",
      "        color='blue', ls='dashed', label=r'$\\sigma\\ {\\rm (std. dev.)}$')\n",
      "ax.plot(x, pdf1, color='gray')\n",
      "\n",
      "ax.hist(mu2_bootstrap, bins=50, normed=True, histtype='step',\n",
      "        color='red', label=r'$\\sigma_G\\ {\\rm (quartile)}$')\n",
      "ax.plot(x, pdf2, color='gray')\n",
      "\n",
      "ax.set_xlim(0.82, 1.18)\n",
      "\n",
      "ax.set_xlabel(r'$\\sigma$')\n",
      "ax.set_ylabel(r'$p(\\sigma|x,I)$')\n",
      "\n",
      "ax.legend()\n",
      "\n",
      "plt.show()"
     ],
     "language": "python",
     "metadata": {},
     "outputs": [
      {
       "metadata": {},
       "output_type": "display_data",
       "png": "[encoded data removed]",
       "text": [
        "<matplotlib.figure.Figure at 0x7f76c48c9c90>"
       ]
      }
     ],
     "prompt_number": 46
    },
    {
     "cell_type": "markdown",
     "metadata": {},
     "source": [
      "## Figure 4.4"
     ]
    },
    {
     "cell_type": "code",
     "collapsed": false,
     "input": [
      "jackknife?"
     ],
     "language": "python",
     "metadata": {},
     "outputs": [],
     "prompt_number": 47
    },
    {
     "cell_type": "code",
     "collapsed": false,
     "input": [
      "# mu1 is the mean of the standard-deviation-based width\n",
      "mu1, sigma_mu1, mu1_raw = jackknife(data, np.std,\n",
      "                                    kwargs=dict(axis=1, ddof=1),\n",
      "                                    return_raw_distribution=True)\n",
      "\n",
      "pdf1_theory = stats.norm(1, 1. / np.sqrt(2 * (m - 1)))\n",
      "pdf1_jackknife = stats.norm(mu1, sigma_mu1)\n",
      "\n",
      "# mu2 is the mean of the interquartile-based width\n",
      "#  WARNING: do not use the following in practice.  This example\n",
      "#           shows that jackknife fails for rank-based statistics.\n",
      "mu2, sigma_mu2, mu2_raw = jackknife(data, sigmaG,\n",
      "                                    kwargs=dict(axis=1),\n",
      "                                    return_raw_distribution=True)\n",
      "pdf2_theory = stats.norm(data.std(), 1.06 / np.sqrt(m))\n",
      "pdf2_jackknife = stats.norm(mu2, sigma_mu2)\n",
      "\n",
      "print data.mean(), np.sqrt(data.std())\n",
      "print mu1_raw.mean(), np.sqrt(mu1_raw.std())\n",
      "print mu1, sigma_mu1\n",
      "print mu2_raw.mean(), np.sqrt(mu2_raw.std())\n",
      "print mu2, sigma_mu2"
     ],
     "language": "python",
     "metadata": {},
     "outputs": [
      {
       "output_type": "stream",
       "stream": "stdout",
       "text": [
        "-0.0395641360808 1.00039369126\n",
        "1.00128805827 0.0265634651568\n",
        "1.00153668614 0.0222801394205\n",
        "1.00369943208 0.0315112821312\n",
        "0.597747861969 0.0313531079465\n"
       ]
      }
     ],
     "prompt_number": 48
    },
    {
     "cell_type": "code",
     "collapsed": false,
     "input": [
      "# plot the results\n",
      "print \"mu_1 mean: %.2f +- %.2f\" % (mu1, sigma_mu1)\n",
      "print \"mu_2 mean: %.2f +- %.2f\" % (mu2, sigma_mu2)\n",
      "\n",
      "fig = plt.figure(figsize=(5, 2))\n",
      "fig.subplots_adjust(left=0.11, right=0.95, bottom=0.2, top=0.9,\n",
      "                    wspace=0.25)\n",
      "\n",
      "ax = fig.add_subplot(121)\n",
      "ax.hist(mu1_raw, np.linspace(0.996, 1.008, 100),\n",
      "        label=r'$\\sigma^*\\ {\\rm (std.\\ dev.)}$',\n",
      "        histtype='stepfilled', fc='white', normed=False)\n",
      "ax.hist(mu2_raw, np.linspace(0.996, 1.008, 100),\n",
      "        label=r'$\\sigma_G^*\\ {\\rm (quartile)}$',\n",
      "        histtype='stepfilled', fc='gray', normed=False)\n",
      "ax.legend(loc='upper left', handlelength=2)\n",
      "\n",
      "ax.xaxis.set_major_locator(plt.MultipleLocator(0.004))\n",
      "ax.set_xlabel(r'$\\sigma^*$')\n",
      "ax.set_ylabel(r'$N(\\sigma^*)$')\n",
      "ax.set_xlim(0.998, 1.008)\n",
      "ax.set_ylim(0, 550)\n",
      "\n",
      "ax = fig.add_subplot(122)\n",
      "x = np.linspace(0.45, 1.15, 1000)\n",
      "ax.plot(x, pdf1_jackknife.pdf(x),\n",
      "        color='blue', ls='dashed', label=r'$\\sigma\\ {\\rm (std.\\ dev.)}$',\n",
      "        zorder=2)\n",
      "ax.plot(x, pdf1_theory.pdf(x), color='gray', zorder=1)\n",
      "ax.plot(x, pdf2_jackknife.pdf(x),\n",
      "        color='red', label=r'$\\sigma_G\\ {\\rm (quartile)}$', zorder=2)\n",
      "ax.plot(x, pdf2_theory.pdf(x), color='gray', zorder=1)\n",
      "plt.legend(loc='upper left', handlelength=2)\n",
      "\n",
      "ax.set_xlabel(r'$\\sigma$')\n",
      "ax.set_ylabel(r'$p(\\sigma|x,I)$')\n",
      "ax.set_xlim(0.45, 1.15)\n",
      "ax.set_ylim(0, 24)\n",
      "\n",
      "plt.show()"
     ],
     "language": "python",
     "metadata": {},
     "outputs": [
      {
       "output_type": "stream",
       "stream": "stdout",
       "text": [
        "mu_1 mean: 1.00 +- 0.02\n",
        "mu_2 mean: 0.60 +- 0.03\n"
       ]
      },
      {
       "metadata": {},
       "output_type": "display_data",
       "png": "[encoded data removed]",
       "text": [
        "<matplotlib.figure.Figure at 0x7f76c48f4350>"
       ]
      }
     ],
     "prompt_number": 49
    },
    {
     "cell_type": "code",
     "collapsed": false,
     "input": [],
     "language": "python",
     "metadata": {},
     "outputs": []
    }
   ],
   "metadata": {}
  }
 ]
}