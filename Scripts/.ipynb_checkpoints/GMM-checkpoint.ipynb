{
 "metadata": {
  "name": ""
 },
 "nbformat": 3,
 "nbformat_minor": 0,
 "worksheets": [
  {
   "cells": [
    {
     "cell_type": "code",
     "collapsed": false,
     "input": [
      "import numpy as np\n",
      "from scipy import stats\n",
      "import matplotlib.pyplot as plt\n",
      "%matplotlib inline\n",
      "from sklearn.mixture import GMM\n",
      "np.random.seed(1)"
     ],
     "language": "python",
     "metadata": {},
     "outputs": [],
     "prompt_number": 1
    },
    {
     "cell_type": "code",
     "collapsed": false,
     "input": [
      "'''\n",
      "mean_1 = 1\n",
      "mean_2 = 5\n",
      "np.random.seed(1)\n",
      "X = np.concatenate((1.5*np.random.normal(mean_1, 1, (1000,1)), np.random.normal(mean_2, 2, (1000,1))))\n",
      "'''"
     ],
     "language": "python",
     "metadata": {},
     "outputs": [
      {
       "metadata": {},
       "output_type": "pyout",
       "prompt_number": 2,
       "text": [
        "'\\nmean_1 = 1\\nmean_2 = 5\\nnp.random.seed(1)\\nX = np.concatenate((1.5*np.random.normal(mean_1, 1, (1000,1)), np.random.normal(mean_2, 2, (1000,1))))\\n'"
       ]
      }
     ],
     "prompt_number": 2
    },
    {
     "cell_type": "code",
     "collapsed": false,
     "input": [
      "'''\n",
      "model = GMM(2, n_iter=100)\n",
      "model.fit(X)\n",
      "print 'model means:',model.means_[0][0],model.means_[1][0] #print result of fit\n",
      "\n",
      "X_model = model.sample(1000)\n",
      "pdf = np.exp(model.score(X_model))\n",
      "\n",
      "plt.hist(X, bins=100, normed=True, histtype='step', color='green')\n",
      "plt.hist(X_model, bins=100, normed=True, histtype='step', color='blue')\n",
      "plt.plot(X_model, pdf, '.r')\n",
      "#plt.bar(bins[:-1],result_data,width=width) #data\n",
      "#plt.plot(bins[:-1]+0.5*(bins[1]-bins[0]),result_model, color='red',lw=5) #model\n",
      "plt.show()\n",
      "'''"
     ],
     "language": "python",
     "metadata": {},
     "outputs": [
      {
       "metadata": {},
       "output_type": "pyout",
       "prompt_number": 3,
       "text": [
        "\"\\nmodel = GMM(2, n_iter=100)\\nmodel.fit(X)\\nprint 'model means:',model.means_[0][0],model.means_[1][0] #print result of fit\\n\\nX_model = model.sample(1000)\\npdf = np.exp(model.score(X_model))\\n\\nplt.hist(X, bins=100, normed=True, histtype='step', color='green')\\nplt.hist(X_model, bins=100, normed=True, histtype='step', color='blue')\\nplt.plot(X_model, pdf, '.r')\\n#plt.bar(bins[:-1],result_data,width=width) #data\\n#plt.plot(bins[:-1]+0.5*(bins[1]-bins[0]),result_model, color='red',lw=5) #model\\nplt.show()\\n\""
       ]
      }
     ],
     "prompt_number": 3
    },
    {
     "cell_type": "code",
     "collapsed": false,
     "input": [
      "traindata = np.concatenate((\n",
      "                            np.random.normal(1, 1, (10000,1)), \n",
      "                            5+np.random.normal(3, 0.5, (10000,1)), \n",
      "                            np.random.normal(10, 1, (10000,1))\n",
      "                            ))\n",
      "plt.hist(traindata, bins=100, histtype='step')\n",
      "plt.show()"
     ],
     "language": "python",
     "metadata": {},
     "outputs": [
      {
       "metadata": {},
       "output_type": "display_data",
       "png": "[encoded data removed]",
       "text": [
        "<matplotlib.figure.Figure at 0x7fc304e52a90>"
       ]
      }
     ],
     "prompt_number": 4
    },
    {
     "cell_type": "code",
     "collapsed": false,
     "input": [
      "#Alternative training data\n",
      "'''\n",
      "gmm = GMM(3, n_iter=1)\n",
      "gmm.means_ = np.array([[1], [8], [10]])\n",
      "gmm.covars_ = np.array([[1], [0.5], [1]])**2\n",
      "\n",
      "traindata = gmm.sample(30000)\n",
      "print gmm\n",
      "plt.hist(traindata, bins=100, histtype='step')\n",
      "plt.show()\n",
      "'''"
     ],
     "language": "python",
     "metadata": {},
     "outputs": [
      {
       "metadata": {},
       "output_type": "pyout",
       "prompt_number": 5,
       "text": [
        "\"\\ngmm = GMM(3, n_iter=1)\\ngmm.means_ = np.array([[1], [8], [10]])\\ngmm.covars_ = np.array([[1], [0.5], [1]])**2\\n\\ntraindata = gmm.sample(30000)\\nprint gmm\\nplt.hist(traindata, bins=100, histtype='step')\\nplt.show()\\n\""
       ]
      }
     ],
     "prompt_number": 5
    },
    {
     "cell_type": "code",
     "collapsed": false,
     "input": [
      "N = np.arange(1, 10)\n",
      "models = [None for i in range(len(N))]\n",
      "do_converge = [False for i in range(len(N))]\n",
      "AICs = [0 for i in range(len(N))]\n",
      "BICs = [0 for i in range(len(N))]\n",
      "\n",
      "for i in range(len(N)):\n",
      "    print i\n",
      "    models[i] = GMM(n_components=N[i], covariance_type='diag', \n",
      "                random_state=10, min_covar=1e-4, tol=1e-5, \n",
      "                n_iter=1000, n_init=10, params='wmc', verbose=0).fit(traindata)\n",
      "    do_converge[i] = models[i].converged_\n",
      "    AICs[i] = models[i].aic(traindata)\n",
      "    BICs[i] = models[i].bic(traindata) #Bayesian information Criterion\n",
      "    print models[i], do_converge[i]\n",
      "    print 'means:', models[i].means_\n",
      "    print 'covars:', models[i].covars_\n",
      "    print 'weights:', models[i].weights_"
     ],
     "language": "python",
     "metadata": {},
     "outputs": [
      {
       "output_type": "stream",
       "stream": "stdout",
       "text": [
        "0\n",
        "GMM(covariance_type='diag', init_params='wmc', min_covar=0.0001,\n",
        "  n_components=1, n_init=10, n_iter=1000, params='wmc', random_state=10,\n",
        "  thresh=None, tol=1e-05, verbose=0)"
       ]
      },
      {
       "output_type": "stream",
       "stream": "stdout",
       "text": [
        " True\n",
        "means: [[ 6.33329561]]\n",
        "covars: [[ 15.57059065]]\n",
        "weights: [ 1.]\n",
        "1\n",
        "GMM(covariance_type='diag', init_params='wmc', min_covar=0.0001,\n",
        "  n_components=2, n_init=10, n_iter=1000, params='wmc', random_state=10,\n",
        "  thresh=None, tol=1e-05, verbose=0)"
       ]
      },
      {
       "output_type": "stream",
       "stream": "stdout",
       "text": [
        " True\n",
        "means: [[ 8.99329328]\n",
        " [ 1.00701327]]\n",
        "covars: [[ 1.60946291]\n",
        " [ 0.98866158]]\n",
        "weights: [ 0.66692908  0.33307092]\n",
        "2\n",
        "GMM(covariance_type='diag', init_params='wmc', min_covar=0.0001,\n",
        "  n_components=3, n_init=10, n_iter=1000, params='wmc', random_state=10,\n",
        "  thresh=None, tol=1e-05, verbose=0)"
       ]
      },
      {
       "output_type": "stream",
       "stream": "stdout",
       "text": [
        " True\n",
        "means: [[ 10.02554079]\n",
        " [  1.00979651]\n",
        " [  8.0212917 ]]\n",
        "covars: [[ 0.95406552]\n",
        " [ 0.99778566]\n",
        " [ 0.26280971]]\n",
        "weights: [ 0.32390197  0.33333494  0.34276309]\n",
        "3\n",
        "GMM(covariance_type='diag', init_params='wmc', min_covar=0.0001,\n",
        "  n_components=4, n_init=10, n_iter=1000, params='wmc', random_state=10,\n",
        "  thresh=None, tol=1e-05, verbose=0)"
       ]
      },
      {
       "output_type": "stream",
       "stream": "stdout",
       "text": [
        " True\n",
        "means: [[  8.02107551]\n",
        " [  0.98565608]\n",
        " [ 10.0229066 ]\n",
        " [  1.09716421]]\n",
        "covars: [[ 0.26274995]\n",
        " [ 0.93124884]\n",
        " [ 0.95786702]\n",
        " [ 1.2291999 ]]\n",
        "weights: [ 0.34229373  0.26104994  0.32436844  0.07228788]\n",
        "4\n",
        "GMM(covariance_type='diag', init_params='wmc', min_covar=0.0001,\n",
        "  n_components=5, n_init=10, n_iter=1000, params='wmc', random_state=10,\n",
        "  thresh=None, tol=1e-05, verbose=0)"
       ]
      },
      {
       "output_type": "stream",
       "stream": "stdout",
       "text": [
        " True\n",
        "means: [[  0.98114937]\n",
        " [ 10.29860128]\n",
        " [  7.98607427]\n",
        " [  9.17744835]\n",
        " [  1.08231802]]\n",
        "covars: [[ 0.92633875]\n",
        " [ 0.85585891]\n",
        " [ 0.22933342]\n",
        " [ 0.98204472]\n",
        " [ 1.17073087]]\n",
        "weights: [ 0.23934795  0.20911304  0.29888097  0.15868129  0.09397675]\n",
        "5\n",
        "GMM(covariance_type='diag', init_params='wmc', min_covar=0.0001,\n",
        "  n_components=6, n_init=10, n_iter=1000, params='wmc', random_state=10,\n",
        "  thresh=None, tol=1e-05, verbose=0)"
       ]
      },
      {
       "output_type": "stream",
       "stream": "stdout",
       "text": [
        " True\n",
        "means: [[ 10.14985097]\n",
        " [  0.97690393]\n",
        " [  8.1832371 ]\n",
        " [  7.95903356]\n",
        " [  1.08282869]\n",
        " [  9.96656003]]\n",
        "covars: [[ 0.69218604]\n",
        " [ 0.91658434]\n",
        " [ 0.37419944]\n",
        " [ 0.21078129]\n",
        " [ 1.17023793]\n",
        " [ 1.18227681]]\n",
        "weights: [ 0.14585257  0.22989867  0.15021209  0.20250225  0.10343431  0.16810012]\n",
        "6\n",
        "GMM(covariance_type='diag', init_params='wmc', min_covar=0.0001,\n",
        "  n_components=7, n_init=10, n_iter=1000, params='wmc', random_state=10,\n",
        "  thresh=None, tol=1e-05, verbose=0)"
       ]
      },
      {
       "output_type": "stream",
       "stream": "stdout",
       "text": [
        " True\n",
        "means: [[  7.97286196]\n",
        " [  0.97258578]\n",
        " [ 10.29981384]\n",
        " [  8.70923895]\n",
        " [  1.13997497]\n",
        " [  9.95056615]\n",
        " [  1.03960315]]\n",
        "covars: [[ 0.22103198]\n",
        " [ 0.90714721]\n",
        " [ 0.66548454]\n",
        " [ 0.69535677]\n",
        " [ 1.23278893]\n",
        " [ 1.24092784]\n",
        " [ 1.08469168]]\n",
        "weights: [ 0.27864379  0.19379586  0.14425303  0.10982926  0.03016389  0.13394503\n",
        "  0.10936914]\n",
        "7\n",
        "GMM(covariance_type='diag', init_params='wmc', min_covar=0.0001,\n",
        "  n_components=8, n_init=10, n_iter=1000, params='wmc', random_state=10,\n",
        "  thresh=None, tol=1e-05, verbose=0)"
       ]
      },
      {
       "output_type": "stream",
       "stream": "stdout",
       "text": [
        " True\n",
        "means: [[  9.43175743]\n",
        " [  1.0358192 ]\n",
        " [  8.58496113]\n",
        " [ 10.35612945]\n",
        " [  0.96869471]\n",
        " [  1.12428064]\n",
        " [  7.96626011]\n",
        " [ 10.18337099]]\n",
        "covars: [[ 1.05266505]\n",
        " [ 1.06886344]\n",
        " [ 0.60869731]\n",
        " [ 0.55965875]\n",
        " [ 0.90316273]\n",
        " [ 1.20528385]\n",
        " [ 0.21807094]\n",
        " [ 1.1704963 ]]\n",
        "weights: [ 0.09122452  0.11298285  0.0884265   0.10540036  0.18118772  0.03915849\n",
        "  0.27086322  0.11075634]\n",
        "8\n",
        "GMM(covariance_type='diag', init_params='wmc', min_covar=0.0001,\n",
        "  n_components=9, n_init=10, n_iter=1000, params='wmc', random_state=10,\n",
        "  thresh=None, tol=1e-05, verbose=0)"
       ]
      },
      {
       "output_type": "stream",
       "stream": "stdout",
       "text": [
        " True\n",
        "means: [[ 10.28473626]\n",
        " [  1.02046054]\n",
        " [  8.23981077]\n",
        " [  9.44608523]\n",
        " [  1.0649185 ]\n",
        " [ 10.04624789]\n",
        " [  0.96913674]\n",
        " [  7.94967715]\n",
        " [  1.22736207]]\n",
        "covars: [[ 0.6622126 ]\n",
        " [ 1.03684158]\n",
        " [ 0.38548079]\n",
        " [ 1.05824998]\n",
        " [ 1.13385875]\n",
        " [ 1.21886088]\n",
        " [ 0.89465885]\n",
        " [ 0.21051397]\n",
        " [ 1.34366488]]\n",
        "weights: [ 0.1201246   0.10806859  0.10640965  0.0963821   0.05686926  0.11509747\n",
        "  0.15856118  0.22865647  0.00983069]\n"
       ]
      }
     ],
     "prompt_number": 7
    },
    {
     "cell_type": "code",
     "collapsed": false,
     "input": [
      "plt.plot(N, AICs, 'or', label='AIC')\n",
      "plt.plot(N, BICs, '--g', label='BIC')\n",
      "plt.legend(loc=1)\n",
      "plt.show()\n",
      "best_model_AIC = models[np.argmin(AICs)]\n",
      "best_model_BIC = models[np.argmin(BICs)]\n",
      "print best_model_AIC, best_model_BIC\n",
      "best_model_AIC is best_model_BIC"
     ],
     "language": "python",
     "metadata": {},
     "outputs": [
      {
       "metadata": {},
       "output_type": "display_data",
       "png": "[encoded data removed]",
       "text": [
        "<matplotlib.figure.Figure at 0x7fc30a768a90>"
       ]
      },
      {
       "output_type": "stream",
       "stream": "stdout",
       "text": [
        "GMM(covariance_type='diag', init_params='wmc', min_covar=0.0001,\n",
        "  n_components=3, n_init=10, n_iter=1000, params='wmc', random_state=10,\n",
        "  thresh=None, tol=1e-05, verbose=0) GMM(covariance_type='diag', init_params='wmc', min_covar=0.0001,\n",
        "  n_components=3, n_init=10, n_iter=1000, params='wmc', random_state=10,\n",
        "  thresh=None, tol=1e-05, verbose=0)\n"
       ]
      },
      {
       "metadata": {},
       "output_type": "pyout",
       "prompt_number": 22,
       "text": [
        "True"
       ]
      }
     ],
     "prompt_number": 22
    },
    {
     "cell_type": "code",
     "collapsed": false,
     "input": [
      "testdata_replace = np.random.choice(traindata[:,0], size=3000, replace=True)\n",
      "testdata = np.random.choice(traindata[:,0], size=3000, replace=False)\n",
      "plt.hist(traindata, bins=100, histtype='step', color='b', normed=True, label='train')\n",
      "plt.hist(testdata, bins=100, histtype='step', color='r', normed=True, label='test-replace')\n",
      "plt.hist(testdata_replace, bins=100, histtype='step', color='y', normed=True, label='test-no replace')\n",
      "plt.legend(loc=2)\n",
      "plt.show()"
     ],
     "language": "python",
     "metadata": {},
     "outputs": [
      {
       "metadata": {},
       "output_type": "display_data",
       "png": "[encoded data removed]",
       "text": [
        "<matplotlib.figure.Figure at 0x7fc304c85d10>"
       ]
      }
     ],
     "prompt_number": 20
    },
    {
     "cell_type": "markdown",
     "metadata": {},
     "source": [
      "## Figure 4.2"
     ]
    },
    {
     "cell_type": "code",
     "collapsed": false,
     "input": [
      "# Set up the dataset.\n",
      "#  We'll use scikit-learn's Gaussian Mixture Model to sample\n",
      "#  data from a mixture of Gaussians.  The usual way of using\n",
      "#  this involves fitting the mixture to data: we'll see that\n",
      "#  below.  Here we'll set the internal means, covariances,\n",
      "#  and weights by-hand.\n",
      "np.random.seed(1)\n",
      "\n",
      "gmm = GMM(3, n_iter=1)\n",
      "gmm.means_ = np.array([[-1], [0], [3]])\n",
      "gmm.covars_ = np.array([[1.5], [1], [0.5]]) ** 2\n",
      "gmm.weights_ = np.array([0.3, 0.5, 0.2])\n",
      "\n",
      "X = gmm.sample(1000)\n",
      "\n",
      "# Learn the best-fit GMM models\n",
      "#  Here we'll use GMM in the standard way: the fit() method\n",
      "#  uses an Expectation-Maximization approach to find the best\n",
      "#  mixture of Gaussians for the data\n",
      "\n",
      "# fit models with 1-10 components\n",
      "N = np.arange(1, 11)\n",
      "models = [None for i in range(len(N))]\n",
      "results = [False for i in range(len(N))]\n",
      "\n",
      "for i in range(len(N)):\n",
      "    models[i] = GMM(N[i]).fit(X)\n",
      "    results[i] = models[i].converged_\n",
      "\n",
      "# compute the AIC and the BIC\n",
      "AIC = [m.aic(X) for m in models]\n",
      "BIC = [m.bic(X) for m in models] #Bayesian information Criterion\n",
      "#plt.plot(N, AIC, 'r', label='AIC')\n",
      "#plt.plot(N, BIC, 'g', label='BIC')\n",
      "#plt.legend()\n",
      "print results\n",
      "print models\n",
      "M_bestA = models[np.argmin(AIC)]\n",
      "M_bestB = models[np.argmin(BIC)]\n",
      "M_bestA is M_bestB"
     ],
     "language": "python",
     "metadata": {},
     "outputs": [
      {
       "output_type": "stream",
       "stream": "stdout",
       "text": [
        "[True, True, True, True, True, True, True, True, True, True]\n",
        "[GMM(covariance_type='diag', init_params='wmc', min_covar=0.001,\n",
        "  n_components=1, n_init=1, n_iter=100, params='wmc', random_state=None,\n",
        "  thresh=None, tol=0.001, verbose=0), GMM(covariance_type='diag', init_params='wmc', min_covar=0.001,\n",
        "  n_components=2, n_init=1, n_iter=100, params='wmc', random_state=None,\n",
        "  thresh=None, tol=0.001, verbose=0), GMM(covariance_type='diag', init_params='wmc', min_covar=0.001,\n",
        "  n_components=3, n_init=1, n_iter=100, params='wmc', random_state=None,\n",
        "  thresh=None, tol=0.001, verbose=0), GMM(covariance_type='diag', init_params='wmc', min_covar=0.001,\n",
        "  n_components=4, n_init=1, n_iter=100, params='wmc', random_state=None,\n",
        "  thresh=None, tol=0.001, verbose=0), GMM(covariance_type='diag', init_params='wmc', min_covar=0.001,\n",
        "  n_components=5, n_init=1, n_iter=100, params='wmc', random_state=None,\n",
        "  thresh=None, tol=0.001, verbose=0), GMM(covariance_type='diag', init_params='wmc', min_covar=0.001,\n",
        "  n_components=6, n_init=1, n_iter=100, params='wmc', random_state=None,\n",
        "  thresh=None, tol=0.001, verbose=0), GMM(covariance_type='diag', init_params='wmc', min_covar=0.001,\n",
        "  n_components=7, n_init=1, n_iter=100, params='wmc', random_state=None,\n",
        "  thresh=None, tol=0.001, verbose=0), GMM(covariance_type='diag', init_params='wmc', min_covar=0.001,\n",
        "  n_components=8, n_init=1, n_iter=100, params='wmc', random_state=None,\n",
        "  thresh=None, tol=0.001, verbose=0), GMM(covariance_type='diag', init_params='wmc', min_covar=0.001,\n",
        "  n_components=9, n_init=1, n_iter=100, params='wmc', random_state=None,\n",
        "  thresh=None, tol=0.001, verbose=0), GMM(covariance_type='diag', init_params='wmc', min_covar=0.001,\n",
        "  n_components=10, n_init=1, n_iter=100, params='wmc', random_state=None,\n",
        "  thresh=None, tol=0.001, verbose=0)]\n"
       ]
      },
      {
       "metadata": {},
       "output_type": "pyout",
       "prompt_number": 16,
       "text": [
        "True"
       ]
      }
     ],
     "prompt_number": 16
    },
    {
     "cell_type": "code",
     "collapsed": false,
     "input": [
      "# Plot the results\n",
      "#  We'll use three panels:\n",
      "#   1) data + best-fit mixture\n",
      "#   2) AIC and BIC vs number of components\n",
      "#   3) probability that a point came from each component\n",
      "\n",
      "fig = plt.figure(figsize=(5, 1.7))\n",
      "fig.subplots_adjust(left=0.12, right=0.97,\n",
      "                    bottom=0.21, top=0.9, wspace=0.5)\n",
      "\n",
      "\n",
      "# plot 1: data + best-fit mixture\n",
      "ax = fig.add_subplot(131)\n",
      "M_best = models[np.argmin(AIC)]\n",
      "\n",
      "x = np.random.random((1000,1))\n",
      "x[:,0] = np.linspace(-6, 6, 1000)\n",
      "\n",
      "#logprob, responsibilities = M_best.eval(x) ##The is no such method on a GMM object! \n",
      "# eval(): Evaluate the model on data\n",
      "# return\n",
      "    # the log probability of X under the model\n",
      "    # the posterior distribution (responsibilities) of each mixture component for each element of X.\n",
      "#from: http://ogrisel.github.io/scikit-learn.org/sklearn-tutorial/modules/generated/sklearn.mixture.GMM.html\n",
      "\n",
      "\n",
      "logprob, responsibilities = M_best.score(x), M_best.predict_proba(x)\n",
      "\n",
      "pdf = np.exp(logprob)\n",
      "pdf_individual = responsibilities * pdf[:, np.newaxis]\n",
      "ax.hist(X, 30, normed=True, histtype='stepfilled', alpha=0.4)\n",
      "ax.plot(x, pdf, '-k')\n",
      "ax.plot(x, pdf_individual, '--k')\n",
      "ax.text(0.04, 0.96, \"Best-fit Mixture\",\n",
      "        ha='left', va='top', transform=ax.transAxes)\n",
      "ax.set_xlabel('$x$')\n",
      "ax.set_ylabel('$p(x)$')\n",
      "\n",
      "\n",
      "# plot 2: AIC and BIC\n",
      "ax = fig.add_subplot(132)\n",
      "ax.plot(N, AIC, '-k', label='AIC')\n",
      "ax.plot(N, BIC, '--k', label='BIC')\n",
      "ax.set_xlabel('n. components')\n",
      "ax.set_ylabel('information criterion')\n",
      "ax.legend(loc=2)\n",
      "\n",
      "# plot 3: posterior probabilities for each component\n",
      "ax = fig.add_subplot(133)\n",
      "\n",
      "p = M_best.predict_proba(x)\n",
      "p = p[:, (1, 0, 2)]  # rearrange order so the plot looks better\n",
      "p = p.cumsum(1).T\n",
      "x = x.T[0]\n",
      "        \n",
      "ax.fill_between(x, 0, p[0], color='gray', alpha=0.3)\n",
      "ax.fill_between(x, p[0], p[1], color='gray', alpha=0.5)\n",
      "ax.fill_between(x, p[1], 1, color='gray', alpha=0.7)\n",
      "ax.set_xlim(-6, 6)\n",
      "ax.set_ylim(0, 1)\n",
      "ax.set_xlabel('$x$')\n",
      "ax.set_ylabel(r'$p({\\rm class}|x)$')\n",
      "\n",
      "ax.text(-5, 0.3, 'class 1', rotation='vertical')\n",
      "ax.text(0, 0.5, 'class 2', rotation='vertical')\n",
      "ax.text(3, 0.3, 'class 3', rotation='vertical')\n",
      "\n",
      "plt.show()"
     ],
     "language": "python",
     "metadata": {},
     "outputs": [
      {
       "metadata": {},
       "output_type": "display_data",
       "png": "[encoded data removed]",
       "text": [
        "<matplotlib.figure.Figure at 0x7f3581972e90>"
       ]
      }
     ],
     "prompt_number": 20
    },
    {
     "cell_type": "markdown",
     "metadata": {},
     "source": [
      "## sklearn example"
     ]
    },
    {
     "cell_type": "code",
     "collapsed": false,
     "input": [
      "from sklearn import mixture\n",
      "np.random.seed(1)\n",
      "g = mixture.GMM(n_components=2)\n",
      "obs = np.concatenate((np.random.randn(1000,1),\n",
      "                      10+np.random.randn(3000,1)))\n",
      "g.fit(obs)"
     ],
     "language": "python",
     "metadata": {},
     "outputs": [
      {
       "metadata": {},
       "output_type": "pyout",
       "prompt_number": 21,
       "text": [
        "GMM(covariance_type='diag', init_params='wmc', min_covar=0.001,\n",
        "  n_components=2, n_init=1, n_iter=100, params='wmc', random_state=None,\n",
        "  thresh=None, tol=0.001, verbose=0)"
       ]
      }
     ],
     "prompt_number": 21
    },
    {
     "cell_type": "code",
     "collapsed": false,
     "input": [
      "print (g.means_[0], g.covars_[0], g.weights_[0])\n",
      "print (g.means_[1], g.covars_[1], g.weights_[1])"
     ],
     "language": "python",
     "metadata": {},
     "outputs": [
      {
       "output_type": "stream",
       "stream": "stdout",
       "text": [
        "(array([ 10.00291829]), array([ 1.00894107]), 0.75000002922640319)\n",
        "(array([ 0.03881202]), array([ 0.96336743]), 0.24999997077359729)\n"
       ]
      }
     ],
     "prompt_number": 22
    },
    {
     "cell_type": "code",
     "collapsed": false,
     "input": [
      "obs_hist = plt.hist(obs, bins=100, normed=True,\n",
      "                    histtype='step', color='blue', label='obs')\n",
      "model = g.sample(1000)\n",
      "model_hist = plt.hist(model, bins=100, normed=True,\n",
      "                      histtype='step', color='red', label='model')\n",
      "leg = plt.legend(loc='upper left')"
     ],
     "language": "python",
     "metadata": {},
     "outputs": [
      {
       "metadata": {},
       "output_type": "display_data",
       "png": "[encoded data removed]",
       "text": [
        "<matplotlib.figure.Figure at 0x7f3581903990>"
       ]
      }
     ],
     "prompt_number": 23
    },
    {
     "cell_type": "code",
     "collapsed": false,
     "input": [
      "test = g.sample(10)\n",
      "print test\n",
      "print g.predict(test) #return the component wach point initially(?) belonged to\n",
      "print np.round(g.score(test), 2) #computes the log probability under the model\n",
      "print g.converged_"
     ],
     "language": "python",
     "metadata": {},
     "outputs": [
      {
       "output_type": "stream",
       "stream": "stdout",
       "text": [
        "[[ -2.48021748e-03]\n",
        " [ -8.76652460e-02]\n",
        " [ -3.65221096e-02]\n",
        " [  2.28714398e-02]\n",
        " [  1.00566581e+01]\n",
        " [  8.17838745e-03]\n",
        " [  9.98316583e+00]\n",
        " [  9.98574833e+00]\n",
        " [  1.00356738e+01]\n",
        " [  8.36466728e-04]]\n",
        "[1 1 1 1 0 1 0 0 0 1]\n",
        "[ 1.84 -2.    1.17  1.58  0.24  1.81  1.7   1.74  1.21  1.84]\n",
        "True\n"
       ]
      }
     ],
     "prompt_number": 84
    },
    {
     "cell_type": "code",
     "collapsed": false,
     "input": [
      "# Refit the model on new data (initial parameters remain the\n",
      "# same), this time with an even split between the two modes.\n",
      "print g.fit(20 * [[0]] +  20 * [[10]])\n",
      "print np.round(g.weights_, 2)\n",
      "print g.converged_"
     ],
     "language": "python",
     "metadata": {},
     "outputs": [
      {
       "output_type": "stream",
       "stream": "stdout",
       "text": [
        "GMM(covariance_type='diag', init_params='wmc', min_covar=0.001,\n",
        "  n_components=2, n_init=1, n_iter=100, params='wmc', random_state=None,\n",
        "  thresh=None, tol=0.001, verbose=0)\n",
        "[ 0.5  0.5]\n",
        "True\n"
       ]
      }
     ],
     "prompt_number": 85
    },
    {
     "cell_type": "code",
     "collapsed": false,
     "input": [
      "# these values only mean something in comparison to other models\n",
      "print g.aic(obs)\n",
      "print g.bic(obs)"
     ],
     "language": "python",
     "metadata": {},
     "outputs": [
      {
       "output_type": "stream",
       "stream": "stdout",
       "text": [
        "3972995.79084\n",
        "3973027.26109\n"
       ]
      }
     ],
     "prompt_number": 86
    },
    {
     "cell_type": "code",
     "collapsed": false,
     "input": [],
     "language": "python",
     "metadata": {},
     "outputs": [],
     "prompt_number": 16
    },
    {
     "cell_type": "code",
     "collapsed": false,
     "input": [],
     "language": "python",
     "metadata": {},
     "outputs": []
    }
   ],
   "metadata": {}
  }
 ]
}