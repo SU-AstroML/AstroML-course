{
 "metadata": {
  "name": ""
 },
 "nbformat": 3,
 "nbformat_minor": 0,
 "worksheets": [
  {
   "cells": [
    {
     "cell_type": "code",
     "collapsed": false,
     "input": [
      "import numpy as np\n",
      "from scipy import stats\n",
      "import matplotlib.pyplot as plt\n",
      "%matplotlib inline\n",
      "np.random.seed(1)"
     ],
     "language": "python",
     "metadata": {},
     "outputs": [],
     "prompt_number": 47
    },
    {
     "cell_type": "code",
     "collapsed": false,
     "input": [
      "muB, sigmaB = 100, 10\n",
      "muS, sigmaS = 150, 12\n",
      "hB = stats.norm(muB, sigmaB)\n",
      "hS = stats.norm(muS, sigmaS)\n",
      "a = 0.1\n",
      "N = 1e6\n",
      "x_c = 120 #a 2sigma cut away from the mean for hB\n",
      "alpha = 0.024\n",
      "bg = hB.rvs(N)\n",
      "src = hS.rvs(N)"
     ],
     "language": "python",
     "metadata": {},
     "outputs": [],
     "prompt_number": 67
    },
    {
     "cell_type": "code",
     "collapsed": false,
     "input": [
      "#src_hist = plt.hist(src, bins=1000, normed=True, histtype='step', color='g', lw=3, label='source')\n",
      "#bg_hist = plt.hist(bg, bins=1000, normed=True, histtype='step', color='r', lw=3, label='background')\n",
      "#plt.legend()\n",
      "pS = a*hS.pdf(src)\n",
      "pB = (1-a)*hB.pdf(bg)\n",
      "plt.plot(src, pS, '.g', label='source')\n",
      "plt.plot(bg, pB, '.r', label='background')\n",
      "plt.vlines(x=x_c, ymin=0, ymax=0.04, color='k', lw=2)\n",
      "plt.ylim([0,0.04])\n",
      "plt.legend()\n",
      "plt.show()\n",
      "spurious = [x for x in bg if x>=x_c]\n",
      "missed = [x for x in src if x<=x_c]\n",
      "n_spurious, n_missed = float(len(spurious)), float(len(missed))\n",
      "print '(Spurious source, Missed source):', (n_spurious, n_missed)\n",
      "\n",
      "true_bg = [x for x in bg if x<=x_c]\n",
      "true_src = [x for x in src if x>=x_c]\n",
      "n_bg, n_src = float(len(true_bg)), float(len(true_src))\n",
      "print '(True background, True source):', (n_bg, n_src)\n",
      "\n",
      "eta = round((N*a - n_missed)/(N*a), 3)\n",
      "epsilon = round(n_spurious/(n_src+n_missed), 3) #Does not match the book's value! why??\n",
      "\n",
      "print '(completeness, contamination):', (eta, epsilon) #sample completeness, sample contamination"
     ],
     "language": "python",
     "metadata": {},
     "outputs": [
      {
       "metadata": {},
       "output_type": "display_data",
       "png": "[encoded data removed]",
       "text": [
        "<matplotlib.figure.Figure at 0x7f7f8c0ec850>"
       ]
      },
      {
       "output_type": "stream",
       "stream": "stdout",
       "text": [
        "(Spurious source, Missed source): (22843.0, 6179.0)\n",
        "(True background, True source):"
       ]
      },
      {
       "output_type": "stream",
       "stream": "stdout",
       "text": [
        " (977157.0, 993821.0)\n",
        "(completeness, contamination): (0.938, 0.023)\n"
       ]
      }
     ],
     "prompt_number": 85
    },
    {
     "cell_type": "markdown",
     "metadata": {},
     "source": [
      "## Figure 4.5"
     ]
    },
    {
     "cell_type": "code",
     "collapsed": false,
     "input": [
      "#   The figure produced by this code is published in the textbook\n",
      "#   \"Statistics, Data Mining, and Machine Learning in Astronomy\" (2013)\n",
      "#   For more information, see http://astroML.github.com\n",
      "#   To report a bug or issue, use the following forum:\n",
      "#    https://groups.google.com/forum/#!forum/astroml-general\n",
      "import numpy as np\n",
      "from scipy.stats import norm\n",
      "from matplotlib import pyplot as plt\n",
      "\n",
      "#----------------------------------------------------------------------\n",
      "# This function adjusts matplotlib settings for a uniform feel in the textbook.\n",
      "# Note that with usetex=True, fonts are rendered with LaTeX.  This may\n",
      "# result in an error if LaTeX is not installed on your system.  In that case,\n",
      "# you can set usetex to False.\n",
      "from astroML.plotting import setup_text_plots\n",
      "setup_text_plots(fontsize=8, usetex=True)\n",
      "\n",
      "#------------------------------------------------------------\n",
      "# Generate and draw the curves\n",
      "x = np.linspace(50, 200, 1000)\n",
      "p1 = 0.9 * norm(100, 10).pdf(x)\n",
      "p2 = 0.1 * norm(150, 12).pdf(x)\n",
      "\n",
      "fig, ax = plt.subplots(figsize=(5, 3.75))\n",
      "ax.fill(x, p1, ec='k', fc='#AAAAAA', alpha=0.5)\n",
      "ax.fill(x, p2, '-k', fc='#AAAAAA', alpha=0.5)\n",
      "\n",
      "ax.plot([120, 120], [0.0, 0.04], '--k')\n",
      "\n",
      "ax.text(100, 0.036, r'$h_B(x)$', ha='center', va='bottom')\n",
      "ax.text(150, 0.0035, r'$h_S(x)$', ha='center', va='bottom')\n",
      "ax.text(122, 0.039, r'$x_c=120$', ha='left', va='top')\n",
      "ax.text(125, 0.01, r'$(x > x_c\\ {\\rm classified\\ as\\ sources})$')\n",
      "\n",
      "ax.set_xlim(50, 200)\n",
      "ax.set_ylim(0, 0.04)\n",
      "\n",
      "ax.set_xlabel('$x$')\n",
      "ax.set_ylabel('$p(x)$')\n",
      "plt.show()"
     ],
     "language": "python",
     "metadata": {},
     "outputs": [
      {
       "metadata": {},
       "output_type": "display_data",
       "png": "[encoded data removed]",
       "text": [
        "<matplotlib.figure.Figure at 0x7f7f8c347550>"
       ]
      }
     ],
     "prompt_number": 24
    },
    {
     "cell_type": "code",
     "collapsed": false,
     "input": [],
     "language": "python",
     "metadata": {},
     "outputs": []
    }
   ],
   "metadata": {}
  }
 ]
}