{
 "cells": [
  {
   "cell_type": "code",
   "execution_count": 65,
   "metadata": {
    "collapsed": false
   },
   "outputs": [
    {
     "name": "stdout",
     "output_type": "stream",
     "text": [
      "Using matplotlib backend: Qt4Agg\n",
      "Populating the interactive namespace from numpy and matplotlib\n"
     ]
    },
    {
     "name": "stderr",
     "output_type": "stream",
     "text": [
      "WARNING: pylab import has clobbered these variables: ['f']\n",
      "`%matplotlib` prevents importing * from pylab and numpy\n"
     ]
    }
   ],
   "source": [
    "%pylab\n",
    "import numpy"
   ]
  },
  {
   "cell_type": "code",
   "execution_count": 3,
   "metadata": {
    "collapsed": false
   },
   "outputs": [],
   "source": [
    "interval=np.load('/Users/emir/Dropbox/Astro/AstroML-course-master/Time Series/irregular_interval.npy')\n",
    "sampled=np.load('/Users/emir/Dropbox/Astro/AstroML-course-master/Time Series/irregular_sampled.npy')"
   ]
  },
  {
   "cell_type": "code",
   "execution_count": 33,
   "metadata": {
    "collapsed": false
   },
   "outputs": [
    {
     "data": {
      "text/plain": [
       "<matplotlib.legend.Legend at 0x125ea2790>"
      ]
     },
     "execution_count": 33,
     "metadata": {},
     "output_type": "execute_result"
    }
   ],
   "source": [
    "plt.figure()\n",
    "plt.plot(interval.T[0],interval.T[1],marker='o',label='interval')\n",
    "#plt.plot(sampled.T[0],sampled.T[1],marker='s',label='sampled')\n",
    "plt.legend()"
   ]
  },
  {
   "cell_type": "code",
   "execution_count": 13,
   "metadata": {
    "collapsed": false
   },
   "outputs": [],
   "source": [
    "from astroML.time_series import lomb_scargle\n",
    "from scipy.signal import periodogram\n",
    "from scipy.signal import lombscargle"
   ]
  },
  {
   "cell_type": "code",
   "execution_count": 30,
   "metadata": {
    "collapsed": true
   },
   "outputs": [],
   "source": [
    "f=10**np.linspace(-7,-1,10000)\n",
    "ls=lombscargle(interval.T[0],interval.T[1],f)\n"
   ]
  },
  {
   "cell_type": "code",
   "execution_count": 92,
   "metadata": {
    "collapsed": true
   },
   "outputs": [],
   "source": [
    "f=10**np.linspace(-7,-1,10000)\n",
    "ls2=lombscargle(sampled.T[0],sampled.T[1],f)\n"
   ]
  },
  {
   "cell_type": "code",
   "execution_count": 35,
   "metadata": {
    "collapsed": false
   },
   "outputs": [
    {
     "data": {
      "text/plain": [
       "[<matplotlib.lines.Line2D at 0x12ec86d10>]"
      ]
     },
     "execution_count": 35,
     "metadata": {},
     "output_type": "execute_result"
    }
   ],
   "source": [
    "plt.figure()\n",
    "plt.plot((2.0*np.pi)/f,ls)\n",
    "plt.plot((2.0*np.pi)/f,ls2)"
   ]
  },
  {
   "cell_type": "code",
   "execution_count": 93,
   "metadata": {
    "collapsed": false
   },
   "outputs": [
    {
     "data": {
      "text/plain": [
       "[<matplotlib.lines.Line2D at 0x138589750>]"
      ]
     },
     "execution_count": 93,
     "metadata": {},
     "output_type": "execute_result"
    }
   ],
   "source": [
    "#plt.plot(f,ls)\n",
    "plt.plot(f,ls2)"
   ]
  },
  {
   "cell_type": "code",
   "execution_count": 79,
   "metadata": {
    "collapsed": true
   },
   "outputs": [],
   "source": [
    "def sinwave(t,w1,w2,A1,A2):\n",
    "    return A1*numpy.sin(0.000874569201683*t+w1) + A2*numpy.sin(0.00169*t+w2)"
   ]
  },
  {
   "cell_type": "code",
   "execution_count": 84,
   "metadata": {
    "collapsed": false
   },
   "outputs": [],
   "source": [
    "from lmfit import minimize,Parameters, Parameter, report_fit\n",
    "\n",
    "params=Parameters()\n",
    "params.add('w1',value=1.0, min=0.0, max=2.0*np.pi)\n",
    "params.add('w2',value=2.0, min=0.0, max=2.0*np.pi)\n",
    "params.add('A1',value=1.5, min=0.0)\n",
    "params.add('A2',value=0.2, min=0.0)\n",
    "\n",
    "def fit_func(params):\n",
    "    w1=params['w1'].value\n",
    "    w2=params['w2'].value\n",
    "    A1=params['A1'].value\n",
    "    A2=params['A2'].value\n",
    "    residuals= sampled.T[1]-sinwave(sampled.T[0],w1,w2,A1,A2)\n",
    "    return residuals\n",
    "    "
   ]
  },
  {
   "cell_type": "code",
   "execution_count": 85,
   "metadata": {
    "collapsed": false
   },
   "outputs": [],
   "source": [
    "result=minimize(fit_func,params)"
   ]
  },
  {
   "cell_type": "code",
   "execution_count": 90,
   "metadata": {
    "collapsed": false
   },
   "outputs": [
    {
     "data": {
      "text/plain": [
       "[<matplotlib.lines.Line2D at 0x13df9a210>]"
      ]
     },
     "execution_count": 90,
     "metadata": {},
     "output_type": "execute_result"
    }
   ],
   "source": [
    "w1=result.params['w1'].value\n",
    "w2=result.params['w2'].value\n",
    "A1=result.params['A1'].value\n",
    "A2=result.params['A2'].value\n",
    "\n",
    "plt.plot(sampled.T[0],sinwave(sampled.T[0],w1,w2,A1,A2),color='black',linewidth=3.0)\n",
    "#plt.plot(sampled.T[0],sampled.T[1],marker='s',alpha=0.5,color='green')\n",
    "plt.plot(interval.T[0],interval.T[1],marker='s',alpha=0.5,linestyle='None',color='blue')"
   ]
  },
  {
   "cell_type": "code",
   "execution_count": 62,
   "metadata": {
    "collapsed": false
   },
   "outputs": [
    {
     "data": {
      "text/plain": [
       "(1000,)"
      ]
     },
     "execution_count": 62,
     "metadata": {},
     "output_type": "execute_result"
    }
   ],
   "source": [
    "sampled.T[0].shape"
   ]
  },
  {
   "cell_type": "code",
   "execution_count": 69,
   "metadata": {
    "collapsed": false
   },
   "outputs": [
    {
     "data": {
      "text/plain": [
       "array([ 1.05041733,  1.0504173 ,  1.05041729, ...,  1.04262732,\n",
       "        1.04261341,  1.04261213])"
      ]
     },
     "execution_count": 69,
     "metadata": {},
     "output_type": "execute_result"
    }
   ],
   "source": [
    "sinwave(ls2,2,3)"
   ]
  }
 ],
 "metadata": {
  "kernelspec": {
   "display_name": "Python 2",
   "language": "python",
   "name": "python2"
  },
  "language_info": {
   "codemirror_mode": {
    "name": "ipython",
    "version": 2
   },
   "file_extension": ".py",
   "mimetype": "text/x-python",
   "name": "python",
   "nbconvert_exporter": "python",
   "pygments_lexer": "ipython2",
   "version": "2.7.11"
  }
 },
 "nbformat": 4,
 "nbformat_minor": 0
}
