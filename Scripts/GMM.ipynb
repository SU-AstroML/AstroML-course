{
 "metadata": {
  "name": ""
 },
 "nbformat": 3,
 "nbformat_minor": 0,
 "worksheets": [
  {
   "cells": [
    {
     "cell_type": "code",
     "collapsed": false,
     "input": [
      "import numpy as np\n",
      "from scipy import stats\n",
      "import matplotlib.pyplot as plt\n",
      "#%matplotlib inline\n",
      "from sklearn.mixture import GMM\n",
      "np.random.seed(1)"
     ],
     "language": "python",
     "metadata": {},
     "outputs": [],
     "prompt_number": 13
    },
    {
     "cell_type": "code",
     "collapsed": false,
     "input": [
      "mean_1 = 1\n",
      "mean_2 = 5\n",
      "np.random.seed(1)\n",
      "X = np.concatenate((1.5*np.random.normal(mean_1, 1, (1000,1)), np.random.normal(mean_2, 2, (1000,1))))"
     ],
     "language": "python",
     "metadata": {},
     "outputs": [],
     "prompt_number": 18
    },
    {
     "cell_type": "code",
     "collapsed": false,
     "input": [
      "model = GMM(2, n_iter=100)\n",
      "model.fit(X)\n",
      "print 'model means:',model.means_[0][0],model.means_[1][0] #print result of fit\n",
      "\n",
      "X_model = model.sample(1000)\n",
      "pdf = np.exp(model.score(X_model))\n",
      "\n",
      "plt.hist(X, bins=100, normed=True, histtype='step', color='green')\n",
      "plt.hist(X_model, bins=100, normed=True, histtype='step', color='blue')\n",
      "plt.plot(X_model, pdf, '.r')\n",
      "#plt.bar(bins[:-1],result_data,width=width) #data\n",
      "#plt.plot(bins[:-1]+0.5*(bins[1]-bins[0]),result_model, color='red',lw=5) #model\n",
      "plt.show()"
     ],
     "language": "python",
     "metadata": {},
     "outputs": [
      {
       "output_type": "stream",
       "stream": "stdout",
       "text": [
        "model means: 1.89111873595 5.05190124106\n"
       ]
      }
     ],
     "prompt_number": 34
    },
    {
     "cell_type": "markdown",
     "metadata": {},
     "source": [
      "## Figure 4.2"
     ]
    },
    {
     "cell_type": "code",
     "collapsed": false,
     "input": [
      "# Set up the dataset.\n",
      "#  We'll use scikit-learn's Gaussian Mixture Model to sample\n",
      "#  data from a mixture of Gaussians.  The usual way of using\n",
      "#  this involves fitting the mixture to data: we'll see that\n",
      "#  below.  Here we'll set the internal means, covariances,\n",
      "#  and weights by-hand.\n",
      "np.random.seed(1)\n",
      "\n",
      "gmm = GMM(3, n_iter=1)\n",
      "gmm.means_ = np.array([[-1], [0], [3]])\n",
      "gmm.covars_ = np.array([[1.5], [1], [0.5]]) ** 2\n",
      "gmm.weights_ = np.array([0.3, 0.5, 0.2])\n",
      "\n",
      "X = gmm.sample(1000)\n",
      "\n",
      "# Learn the best-fit GMM models\n",
      "#  Here we'll use GMM in the standard way: the fit() method\n",
      "#  uses an Expectation-Maximization approach to find the best\n",
      "#  mixture of Gaussians for the data\n",
      "\n",
      "# fit models with 1-10 components\n",
      "N = np.arange(1, 11)\n",
      "models = [None for i in range(len(N))]\n",
      "results = [False for i in range(len(N))]\n",
      "\n",
      "for i in range(len(N)):\n",
      "    models[i] = GMM(N[i]).fit(X)\n",
      "    results[i] = models[i].converged_\n",
      "\n",
      "# compute the AIC and the BIC\n",
      "AIC = [m.aic(X) for m in models]\n",
      "BIC = [m.bic(X) for m in models] #Bayesian information Criterion\n",
      "#plt.plot(N, AIC, 'r', label='AIC')\n",
      "#plt.plot(N, BIC, 'g', label='BIC')\n",
      "#plt.legend()\n",
      "print results\n",
      "M_bestA = models[np.argmin(AIC)]\n",
      "M_bestB = models[np.argmin(BIC)]\n",
      "M_bestA is M_bestB"
     ],
     "language": "python",
     "metadata": {},
     "outputs": [
      {
       "output_type": "stream",
       "stream": "stdout",
       "text": [
        "[True, True, True, True, True, True, True, True, True, True]\n"
       ]
      },
      {
       "metadata": {},
       "output_type": "pyout",
       "prompt_number": 4,
       "text": [
        "True"
       ]
      }
     ],
     "prompt_number": 4
    },
    {
     "cell_type": "code",
     "collapsed": false,
     "input": [
      "# Plot the results\n",
      "#  We'll use three panels:\n",
      "#   1) data + best-fit mixture\n",
      "#   2) AIC and BIC vs number of components\n",
      "#   3) probability that a point came from each component\n",
      "\n",
      "fig = plt.figure(figsize=(5, 1.7))\n",
      "fig.subplots_adjust(left=0.12, right=0.97,\n",
      "                    bottom=0.21, top=0.9, wspace=0.5)\n",
      "\n",
      "\n",
      "# plot 1: data + best-fit mixture\n",
      "ax = fig.add_subplot(131)\n",
      "M_best = models[np.argmin(AIC)]\n",
      "\n",
      "x = np.random.random((1000,1))\n",
      "x[:,0] = np.linspace(-6, 6, 1000)\n",
      "\n",
      "#logprob, responsibilities = M_best.eval(x) ##The is no such method on a GMM object!\n",
      "\n",
      "logprob, responsibilities = M_best.score(x), M_best.predict_proba(x)\n",
      "\n",
      "pdf = np.exp(logprob)\n",
      "pdf_individual = responsibilities * pdf[:, np.newaxis]\n",
      "ax.hist(X, 30, normed=True, histtype='stepfilled', alpha=0.4)\n",
      "ax.plot(x, pdf, '-k')\n",
      "ax.plot(x, pdf_individual, '--k')\n",
      "ax.text(0.04, 0.96, \"Best-fit Mixture\",\n",
      "        ha='left', va='top', transform=ax.transAxes)\n",
      "ax.set_xlabel('$x$')\n",
      "ax.set_ylabel('$p(x)$')\n",
      "\n",
      "\n",
      "# plot 2: AIC and BIC\n",
      "ax = fig.add_subplot(132)\n",
      "ax.plot(N, AIC, '-k', label='AIC')\n",
      "ax.plot(N, BIC, '--k', label='BIC')\n",
      "ax.set_xlabel('n. components')\n",
      "ax.set_ylabel('information criterion')\n",
      "ax.legend(loc=2)\n",
      "\n",
      "# plot 3: posterior probabilities for each component\n",
      "ax = fig.add_subplot(133)\n",
      "\n",
      "p = M_best.predict_proba(x)\n",
      "p = p[:, (1, 0, 2)]  # rearrange order so the plot looks better\n",
      "p = p.cumsum(1).T\n",
      "x = x.T[0]\n",
      "        \n",
      "ax.fill_between(x, 0, p[0], color='gray', alpha=0.3)\n",
      "ax.fill_between(x, p[0], p[1], color='gray', alpha=0.5)\n",
      "ax.fill_between(x, p[1], 1, color='gray', alpha=0.7)\n",
      "ax.set_xlim(-6, 6)\n",
      "ax.set_ylim(0, 1)\n",
      "ax.set_xlabel('$x$')\n",
      "ax.set_ylabel(r'$p({\\rm class}|x)$')\n",
      "\n",
      "ax.text(-5, 0.3, 'class 1', rotation='vertical')\n",
      "ax.text(0, 0.5, 'class 2', rotation='vertical')\n",
      "ax.text(3, 0.3, 'class 3', rotation='vertical')\n",
      "\n",
      "plt.show()"
     ],
     "language": "python",
     "metadata": {},
     "outputs": [],
     "prompt_number": 11
    },
    {
     "cell_type": "markdown",
     "metadata": {},
     "source": [
      "## sklearn example"
     ]
    },
    {
     "cell_type": "code",
     "collapsed": false,
     "input": [
      "from sklearn import mixture\n",
      "np.random.seed(1)\n",
      "g = mixture.GMM(n_components=2)\n",
      "obs = np.concatenate((np.random.randn(1000,1),\n",
      "                      10+np.random.randn(3000,1)))\n",
      "g.fit(obs)"
     ],
     "language": "python",
     "metadata": {},
     "outputs": [
      {
       "metadata": {},
       "output_type": "pyout",
       "prompt_number": 44,
       "text": [
        "GMM(covariance_type='diag', init_params='wmc', min_covar=0.001,\n",
        "  n_components=2, n_init=1, n_iter=100, params='wmc', random_state=None,\n",
        "  thresh=None, tol=0.001, verbose=0)"
       ]
      }
     ],
     "prompt_number": 44
    },
    {
     "cell_type": "code",
     "collapsed": false,
     "input": [
      "print (g.means_[0], g.covars_[0], g.weights_[0])\n",
      "print (g.means_[1], g.covars_[1], g.weights_[1])"
     ],
     "language": "python",
     "metadata": {},
     "outputs": [
      {
       "output_type": "stream",
       "stream": "stdout",
       "text": [
        "(array([ 10.00291829]), array([ 1.00894107]), 0.75000002922640319)\n",
        "(array([ 0.03881202]), array([ 0.96336743]), 0.24999997077359729)\n"
       ]
      }
     ],
     "prompt_number": 45
    },
    {
     "cell_type": "code",
     "collapsed": false,
     "input": [
      "obs_hist = plt.hist(obs, bins=100, normed=True,\n",
      "                    histtype='step', color='blue', label='obs')\n",
      "model = g.sample(1000)\n",
      "model_hist = plt.hist(model, bins=100, normed=True,\n",
      "                      histtype='step', color='red', label='model')\n",
      "leg = plt.legend(loc='upper left')"
     ],
     "language": "python",
     "metadata": {},
     "outputs": [
      {
       "metadata": {},
       "output_type": "display_data",
       "png": "[encoded data removed]",
       "text": [
        "<matplotlib.figure.Figure at 0x7fa5c685fd50>"
       ]
      }
     ],
     "prompt_number": 60
    },
    {
     "cell_type": "code",
     "collapsed": false,
     "input": [
      "test = g.sample(10)\n",
      "print test\n",
      "print g.predict(test) #return the component wach point initially(?) belonged to\n",
      "print np.round(g.score(test), 2) #computes the log probability under the model\n",
      "print g.converged_"
     ],
     "language": "python",
     "metadata": {},
     "outputs": [
      {
       "output_type": "stream",
       "stream": "stdout",
       "text": [
        "[[ -2.48021748e-03]\n",
        " [ -8.76652460e-02]\n",
        " [ -3.65221096e-02]\n",
        " [  2.28714398e-02]\n",
        " [  1.00566581e+01]\n",
        " [  8.17838745e-03]\n",
        " [  9.98316583e+00]\n",
        " [  9.98574833e+00]\n",
        " [  1.00356738e+01]\n",
        " [  8.36466728e-04]]\n",
        "[1 1 1 1 0 1 0 0 0 1]\n",
        "[ 1.84 -2.    1.17  1.58  0.24  1.81  1.7   1.74  1.21  1.84]\n",
        "True\n"
       ]
      }
     ],
     "prompt_number": 84
    },
    {
     "cell_type": "code",
     "collapsed": false,
     "input": [
      "# Refit the model on new data (initial parameters remain the\n",
      "# same), this time with an even split between the two modes.\n",
      "print g.fit(20 * [[0]] +  20 * [[10]])\n",
      "print np.round(g.weights_, 2)\n",
      "print g.converged_"
     ],
     "language": "python",
     "metadata": {},
     "outputs": [
      {
       "output_type": "stream",
       "stream": "stdout",
       "text": [
        "GMM(covariance_type='diag', init_params='wmc', min_covar=0.001,\n",
        "  n_components=2, n_init=1, n_iter=100, params='wmc', random_state=None,\n",
        "  thresh=None, tol=0.001, verbose=0)\n",
        "[ 0.5  0.5]\n",
        "True\n"
       ]
      }
     ],
     "prompt_number": 85
    },
    {
     "cell_type": "code",
     "collapsed": false,
     "input": [
      "# these values only mean something in comparison to other models\n",
      "print g.aic(obs)\n",
      "print g.bic(obs)"
     ],
     "language": "python",
     "metadata": {},
     "outputs": [
      {
       "output_type": "stream",
       "stream": "stdout",
       "text": [
        "3972995.79084\n",
        "3973027.26109\n"
       ]
      }
     ],
     "prompt_number": 86
    },
    {
     "cell_type": "code",
     "collapsed": false,
     "input": [
      "\n"
     ],
     "language": "python",
     "metadata": {},
     "outputs": []
    }
   ],
   "metadata": {}
  }
 ]
}